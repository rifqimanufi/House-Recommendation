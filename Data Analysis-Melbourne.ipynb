{
 "cells": [
  {
   "cell_type": "markdown",
   "metadata": {},
   "source": [
    "Pada latihan ini, kita akan menggunakan data “Melbourne Housing Snapshot”. Kalian bisa membaca lebih lanjut penjelasan dataset ini di laman [Kaggle berikut](https://www.kaggle.com/dansbecker/melbourne-housing-snapshot).\n"
   ]
  },
  {
   "cell_type": "code",
   "execution_count": 1,
   "metadata": {},
   "outputs": [],
   "source": [
    "import pandas as pd\n",
    "import numpy as np\n",
    "import seaborn as sns\n",
    "import matplotlib.pyplot as plt"
   ]
  },
  {
   "cell_type": "code",
   "execution_count": 2,
   "metadata": {},
   "outputs": [
    {
     "data": {
      "text/html": [
       "<div>\n",
       "<style scoped>\n",
       "    .dataframe tbody tr th:only-of-type {\n",
       "        vertical-align: middle;\n",
       "    }\n",
       "\n",
       "    .dataframe tbody tr th {\n",
       "        vertical-align: top;\n",
       "    }\n",
       "\n",
       "    .dataframe thead th {\n",
       "        text-align: right;\n",
       "    }\n",
       "</style>\n",
       "<table border=\"1\" class=\"dataframe\">\n",
       "  <thead>\n",
       "    <tr style=\"text-align: right;\">\n",
       "      <th></th>\n",
       "      <th>Suburb</th>\n",
       "      <th>Address</th>\n",
       "      <th>Rooms</th>\n",
       "      <th>Type</th>\n",
       "      <th>Price</th>\n",
       "      <th>Method</th>\n",
       "      <th>SellerG</th>\n",
       "      <th>Date</th>\n",
       "      <th>Distance</th>\n",
       "      <th>Postcode</th>\n",
       "      <th>Bedroom2</th>\n",
       "      <th>Bathroom</th>\n",
       "      <th>Car</th>\n",
       "      <th>Landsize</th>\n",
       "      <th>BuildingArea</th>\n",
       "      <th>YearBuilt</th>\n",
       "      <th>CouncilArea</th>\n",
       "      <th>Lattitude</th>\n",
       "      <th>Longtitude</th>\n",
       "      <th>Regionname</th>\n",
       "      <th>Propertycount</th>\n",
       "    </tr>\n",
       "  </thead>\n",
       "  <tbody>\n",
       "    <tr>\n",
       "      <th>0</th>\n",
       "      <td>Ascot Vale</td>\n",
       "      <td>2/43 Roxburgh St</td>\n",
       "      <td>2</td>\n",
       "      <td>u</td>\n",
       "      <td>455000.0</td>\n",
       "      <td>S</td>\n",
       "      <td>Nelson</td>\n",
       "      <td>3/09/2016</td>\n",
       "      <td>5.9</td>\n",
       "      <td>3032</td>\n",
       "      <td>3.0</td>\n",
       "      <td>1.0</td>\n",
       "      <td>2.0</td>\n",
       "      <td>0.0</td>\n",
       "      <td>NaN</td>\n",
       "      <td>NaN</td>\n",
       "      <td>Moonee Valley</td>\n",
       "      <td>-37.7756</td>\n",
       "      <td>144.9165</td>\n",
       "      <td>Western Metropolitan</td>\n",
       "      <td>6567.0</td>\n",
       "    </tr>\n",
       "    <tr>\n",
       "      <th>1</th>\n",
       "      <td>Ascot Vale</td>\n",
       "      <td>30 Rothwell St</td>\n",
       "      <td>3</td>\n",
       "      <td>h</td>\n",
       "      <td>940000.0</td>\n",
       "      <td>S</td>\n",
       "      <td>Nelson</td>\n",
       "      <td>3/12/2016</td>\n",
       "      <td>5.9</td>\n",
       "      <td>3032</td>\n",
       "      <td>3.0</td>\n",
       "      <td>1.0</td>\n",
       "      <td>2.0</td>\n",
       "      <td>298.0</td>\n",
       "      <td>108.0</td>\n",
       "      <td>1920.0</td>\n",
       "      <td>Moonee Valley</td>\n",
       "      <td>-37.7777</td>\n",
       "      <td>144.9195</td>\n",
       "      <td>Western Metropolitan</td>\n",
       "      <td>6567.0</td>\n",
       "    </tr>\n",
       "    <tr>\n",
       "      <th>2</th>\n",
       "      <td>Ascot Vale</td>\n",
       "      <td>9/5 Rothwell St</td>\n",
       "      <td>2</td>\n",
       "      <td>u</td>\n",
       "      <td>467000.0</td>\n",
       "      <td>SP</td>\n",
       "      <td>Brad</td>\n",
       "      <td>3/12/2016</td>\n",
       "      <td>5.9</td>\n",
       "      <td>3032</td>\n",
       "      <td>2.0</td>\n",
       "      <td>1.0</td>\n",
       "      <td>1.0</td>\n",
       "      <td>0.0</td>\n",
       "      <td>62.0</td>\n",
       "      <td>1980.0</td>\n",
       "      <td>Moonee Valley</td>\n",
       "      <td>-37.7761</td>\n",
       "      <td>144.9201</td>\n",
       "      <td>Western Metropolitan</td>\n",
       "      <td>6567.0</td>\n",
       "    </tr>\n",
       "    <tr>\n",
       "      <th>3</th>\n",
       "      <td>Ascot Vale</td>\n",
       "      <td>7 Francis St</td>\n",
       "      <td>3</td>\n",
       "      <td>h</td>\n",
       "      <td>1380000.0</td>\n",
       "      <td>SP</td>\n",
       "      <td>Nelson</td>\n",
       "      <td>4/03/2017</td>\n",
       "      <td>5.9</td>\n",
       "      <td>3032</td>\n",
       "      <td>3.0</td>\n",
       "      <td>2.0</td>\n",
       "      <td>2.0</td>\n",
       "      <td>277.0</td>\n",
       "      <td>174.0</td>\n",
       "      <td>1910.0</td>\n",
       "      <td>Moonee Valley</td>\n",
       "      <td>-37.7777</td>\n",
       "      <td>144.9221</td>\n",
       "      <td>Western Metropolitan</td>\n",
       "      <td>6567.0</td>\n",
       "    </tr>\n",
       "    <tr>\n",
       "      <th>4</th>\n",
       "      <td>Ascot Vale</td>\n",
       "      <td>2/21 Harold St</td>\n",
       "      <td>2</td>\n",
       "      <td>u</td>\n",
       "      <td>490000.0</td>\n",
       "      <td>VB</td>\n",
       "      <td>Jellis</td>\n",
       "      <td>4/03/2017</td>\n",
       "      <td>5.9</td>\n",
       "      <td>3032</td>\n",
       "      <td>2.0</td>\n",
       "      <td>1.0</td>\n",
       "      <td>1.0</td>\n",
       "      <td>423.0</td>\n",
       "      <td>62.0</td>\n",
       "      <td>1970.0</td>\n",
       "      <td>Moonee Valley</td>\n",
       "      <td>-37.7736</td>\n",
       "      <td>144.9015</td>\n",
       "      <td>Western Metropolitan</td>\n",
       "      <td>6567.0</td>\n",
       "    </tr>\n",
       "  </tbody>\n",
       "</table>\n",
       "</div>"
      ],
      "text/plain": [
       "       Suburb           Address  Rooms Type      Price Method SellerG  \\\n",
       "0  Ascot Vale  2/43 Roxburgh St      2    u   455000.0      S  Nelson   \n",
       "1  Ascot Vale    30 Rothwell St      3    h   940000.0      S  Nelson   \n",
       "2  Ascot Vale   9/5 Rothwell St      2    u   467000.0     SP    Brad   \n",
       "3  Ascot Vale      7 Francis St      3    h  1380000.0     SP  Nelson   \n",
       "4  Ascot Vale    2/21 Harold St      2    u   490000.0     VB  Jellis   \n",
       "\n",
       "        Date  Distance Postcode  Bedroom2  Bathroom  Car  Landsize  \\\n",
       "0  3/09/2016       5.9     3032       3.0       1.0  2.0       0.0   \n",
       "1  3/12/2016       5.9     3032       3.0       1.0  2.0     298.0   \n",
       "2  3/12/2016       5.9     3032       2.0       1.0  1.0       0.0   \n",
       "3  4/03/2017       5.9     3032       3.0       2.0  2.0     277.0   \n",
       "4  4/03/2017       5.9     3032       2.0       1.0  1.0     423.0   \n",
       "\n",
       "   BuildingArea  YearBuilt    CouncilArea  Lattitude  Longtitude  \\\n",
       "0           NaN        NaN  Moonee Valley   -37.7756    144.9165   \n",
       "1         108.0     1920.0  Moonee Valley   -37.7777    144.9195   \n",
       "2          62.0     1980.0  Moonee Valley   -37.7761    144.9201   \n",
       "3         174.0     1910.0  Moonee Valley   -37.7777    144.9221   \n",
       "4          62.0     1970.0  Moonee Valley   -37.7736    144.9015   \n",
       "\n",
       "             Regionname  Propertycount  \n",
       "0  Western Metropolitan         6567.0  \n",
       "1  Western Metropolitan         6567.0  \n",
       "2  Western Metropolitan         6567.0  \n",
       "3  Western Metropolitan         6567.0  \n",
       "4  Western Metropolitan         6567.0  "
      ]
     },
     "execution_count": 2,
     "metadata": {},
     "output_type": "execute_result"
    }
   ],
   "source": [
    "df=pd.read_csv('melb_data2.csv',dtype={'Postcode':str})\n",
    "# df=pd.read_csv('melb_data2.csv')\n",
    "\n",
    "pd.set_option('display.max_columns', 500)\n",
    "df.head()"
   ]
  },
  {
   "cell_type": "code",
   "execution_count": 3,
   "metadata": {},
   "outputs": [
    {
     "name": "stdout",
     "output_type": "stream",
     "text": [
      "<class 'pandas.core.frame.DataFrame'>\n",
      "RangeIndex: 1129 entries, 0 to 1128\n",
      "Data columns (total 21 columns):\n",
      " #   Column         Non-Null Count  Dtype  \n",
      "---  ------         --------------  -----  \n",
      " 0   Suburb         1129 non-null   object \n",
      " 1   Address        1129 non-null   object \n",
      " 2   Rooms          1129 non-null   int64  \n",
      " 3   Type           1129 non-null   object \n",
      " 4   Price          1129 non-null   float64\n",
      " 5   Method         1129 non-null   object \n",
      " 6   SellerG        1129 non-null   object \n",
      " 7   Date           1129 non-null   object \n",
      " 8   Distance       1129 non-null   float64\n",
      " 9   Postcode       1129 non-null   object \n",
      " 10  Bedroom2       1129 non-null   float64\n",
      " 11  Bathroom       1129 non-null   float64\n",
      " 12  Car            1113 non-null   float64\n",
      " 13  Landsize       1129 non-null   float64\n",
      " 14  BuildingArea   601 non-null    float64\n",
      " 15  YearBuilt      713 non-null    float64\n",
      " 16  CouncilArea    1079 non-null   object \n",
      " 17  Lattitude      1129 non-null   float64\n",
      " 18  Longtitude     1129 non-null   float64\n",
      " 19  Regionname     1129 non-null   object \n",
      " 20  Propertycount  1129 non-null   float64\n",
      "dtypes: float64(11), int64(1), object(9)\n",
      "memory usage: 185.4+ KB\n"
     ]
    }
   ],
   "source": [
    "df.info()"
   ]
  },
  {
   "cell_type": "markdown",
   "metadata": {},
   "source": [
    "Gunakan hanya kolom-kolom berikut"
   ]
  },
  {
   "cell_type": "code",
   "execution_count": 4,
   "metadata": {},
   "outputs": [
    {
     "data": {
      "text/html": [
       "<div>\n",
       "<style scoped>\n",
       "    .dataframe tbody tr th:only-of-type {\n",
       "        vertical-align: middle;\n",
       "    }\n",
       "\n",
       "    .dataframe tbody tr th {\n",
       "        vertical-align: top;\n",
       "    }\n",
       "\n",
       "    .dataframe thead th {\n",
       "        text-align: right;\n",
       "    }\n",
       "</style>\n",
       "<table border=\"1\" class=\"dataframe\">\n",
       "  <thead>\n",
       "    <tr style=\"text-align: right;\">\n",
       "      <th></th>\n",
       "      <th>Suburb</th>\n",
       "      <th>Address</th>\n",
       "      <th>Rooms</th>\n",
       "      <th>Date</th>\n",
       "      <th>Type</th>\n",
       "      <th>Price</th>\n",
       "      <th>Distance</th>\n",
       "      <th>Landsize</th>\n",
       "      <th>Bedroom2</th>\n",
       "      <th>BuildingArea</th>\n",
       "      <th>Regionname</th>\n",
       "    </tr>\n",
       "  </thead>\n",
       "  <tbody>\n",
       "    <tr>\n",
       "      <th>0</th>\n",
       "      <td>Ascot Vale</td>\n",
       "      <td>2/43 Roxburgh St</td>\n",
       "      <td>2</td>\n",
       "      <td>3/09/2016</td>\n",
       "      <td>u</td>\n",
       "      <td>455000.0</td>\n",
       "      <td>5.9</td>\n",
       "      <td>0.0</td>\n",
       "      <td>3.0</td>\n",
       "      <td>NaN</td>\n",
       "      <td>Western Metropolitan</td>\n",
       "    </tr>\n",
       "    <tr>\n",
       "      <th>1</th>\n",
       "      <td>Ascot Vale</td>\n",
       "      <td>30 Rothwell St</td>\n",
       "      <td>3</td>\n",
       "      <td>3/12/2016</td>\n",
       "      <td>h</td>\n",
       "      <td>940000.0</td>\n",
       "      <td>5.9</td>\n",
       "      <td>298.0</td>\n",
       "      <td>3.0</td>\n",
       "      <td>108.0</td>\n",
       "      <td>Western Metropolitan</td>\n",
       "    </tr>\n",
       "    <tr>\n",
       "      <th>2</th>\n",
       "      <td>Ascot Vale</td>\n",
       "      <td>9/5 Rothwell St</td>\n",
       "      <td>2</td>\n",
       "      <td>3/12/2016</td>\n",
       "      <td>u</td>\n",
       "      <td>467000.0</td>\n",
       "      <td>5.9</td>\n",
       "      <td>0.0</td>\n",
       "      <td>2.0</td>\n",
       "      <td>62.0</td>\n",
       "      <td>Western Metropolitan</td>\n",
       "    </tr>\n",
       "    <tr>\n",
       "      <th>3</th>\n",
       "      <td>Ascot Vale</td>\n",
       "      <td>7 Francis St</td>\n",
       "      <td>3</td>\n",
       "      <td>4/03/2017</td>\n",
       "      <td>h</td>\n",
       "      <td>1380000.0</td>\n",
       "      <td>5.9</td>\n",
       "      <td>277.0</td>\n",
       "      <td>3.0</td>\n",
       "      <td>174.0</td>\n",
       "      <td>Western Metropolitan</td>\n",
       "    </tr>\n",
       "    <tr>\n",
       "      <th>4</th>\n",
       "      <td>Ascot Vale</td>\n",
       "      <td>2/21 Harold St</td>\n",
       "      <td>2</td>\n",
       "      <td>4/03/2017</td>\n",
       "      <td>u</td>\n",
       "      <td>490000.0</td>\n",
       "      <td>5.9</td>\n",
       "      <td>423.0</td>\n",
       "      <td>2.0</td>\n",
       "      <td>62.0</td>\n",
       "      <td>Western Metropolitan</td>\n",
       "    </tr>\n",
       "  </tbody>\n",
       "</table>\n",
       "</div>"
      ],
      "text/plain": [
       "       Suburb           Address  Rooms       Date Type      Price  Distance  \\\n",
       "0  Ascot Vale  2/43 Roxburgh St      2  3/09/2016    u   455000.0       5.9   \n",
       "1  Ascot Vale    30 Rothwell St      3  3/12/2016    h   940000.0       5.9   \n",
       "2  Ascot Vale   9/5 Rothwell St      2  3/12/2016    u   467000.0       5.9   \n",
       "3  Ascot Vale      7 Francis St      3  4/03/2017    h  1380000.0       5.9   \n",
       "4  Ascot Vale    2/21 Harold St      2  4/03/2017    u   490000.0       5.9   \n",
       "\n",
       "   Landsize  Bedroom2  BuildingArea            Regionname  \n",
       "0       0.0       3.0           NaN  Western Metropolitan  \n",
       "1     298.0       3.0         108.0  Western Metropolitan  \n",
       "2       0.0       2.0          62.0  Western Metropolitan  \n",
       "3     277.0       3.0         174.0  Western Metropolitan  \n",
       "4     423.0       2.0          62.0  Western Metropolitan  "
      ]
     },
     "execution_count": 4,
     "metadata": {},
     "output_type": "execute_result"
    }
   ],
   "source": [
    "df=df[['Suburb','Address','Rooms','Date','Type','Price','Distance','Landsize','Bedroom2','BuildingArea','Regionname']]\n",
    "df.head()"
   ]
  },
  {
   "cell_type": "code",
   "execution_count": 5,
   "metadata": {},
   "outputs": [
    {
     "data": {
      "text/html": [
       "<div>\n",
       "<style scoped>\n",
       "    .dataframe tbody tr th:only-of-type {\n",
       "        vertical-align: middle;\n",
       "    }\n",
       "\n",
       "    .dataframe tbody tr th {\n",
       "        vertical-align: top;\n",
       "    }\n",
       "\n",
       "    .dataframe thead th {\n",
       "        text-align: right;\n",
       "    }\n",
       "</style>\n",
       "<table border=\"1\" class=\"dataframe\">\n",
       "  <thead>\n",
       "    <tr style=\"text-align: right;\">\n",
       "      <th></th>\n",
       "      <th>Suburb</th>\n",
       "      <th>Type</th>\n",
       "      <th>Date</th>\n",
       "      <th>Distance</th>\n",
       "      <th>Regionname</th>\n",
       "      <th>Price</th>\n",
       "    </tr>\n",
       "  </thead>\n",
       "  <tbody>\n",
       "    <tr>\n",
       "      <th>0</th>\n",
       "      <td>Ascot Vale</td>\n",
       "      <td>u</td>\n",
       "      <td>3/09/2016</td>\n",
       "      <td>5.9</td>\n",
       "      <td>Western Metropolitan</td>\n",
       "      <td>455000.0</td>\n",
       "    </tr>\n",
       "    <tr>\n",
       "      <th>1</th>\n",
       "      <td>Ascot Vale</td>\n",
       "      <td>h</td>\n",
       "      <td>3/12/2016</td>\n",
       "      <td>5.9</td>\n",
       "      <td>Western Metropolitan</td>\n",
       "      <td>940000.0</td>\n",
       "    </tr>\n",
       "    <tr>\n",
       "      <th>2</th>\n",
       "      <td>Ascot Vale</td>\n",
       "      <td>u</td>\n",
       "      <td>3/12/2016</td>\n",
       "      <td>5.9</td>\n",
       "      <td>Western Metropolitan</td>\n",
       "      <td>467000.0</td>\n",
       "    </tr>\n",
       "    <tr>\n",
       "      <th>3</th>\n",
       "      <td>Ascot Vale</td>\n",
       "      <td>h</td>\n",
       "      <td>4/03/2017</td>\n",
       "      <td>5.9</td>\n",
       "      <td>Western Metropolitan</td>\n",
       "      <td>1380000.0</td>\n",
       "    </tr>\n",
       "    <tr>\n",
       "      <th>4</th>\n",
       "      <td>Ascot Vale</td>\n",
       "      <td>u</td>\n",
       "      <td>4/03/2017</td>\n",
       "      <td>5.9</td>\n",
       "      <td>Western Metropolitan</td>\n",
       "      <td>490000.0</td>\n",
       "    </tr>\n",
       "  </tbody>\n",
       "</table>\n",
       "</div>"
      ],
      "text/plain": [
       "       Suburb Type       Date  Distance            Regionname      Price\n",
       "0  Ascot Vale    u  3/09/2016       5.9  Western Metropolitan   455000.0\n",
       "1  Ascot Vale    h  3/12/2016       5.9  Western Metropolitan   940000.0\n",
       "2  Ascot Vale    u  3/12/2016       5.9  Western Metropolitan   467000.0\n",
       "3  Ascot Vale    h  4/03/2017       5.9  Western Metropolitan  1380000.0\n",
       "4  Ascot Vale    u  4/03/2017       5.9  Western Metropolitan   490000.0"
      ]
     },
     "execution_count": 5,
     "metadata": {},
     "output_type": "execute_result"
    }
   ],
   "source": [
    "df1=df[['Suburb','Type','Date','Distance','Regionname','Price']]\n",
    "df1.head()"
   ]
  },
  {
   "cell_type": "code",
   "execution_count": 6,
   "metadata": {},
   "outputs": [
    {
     "data": {
      "text/html": [
       "<div>\n",
       "<style scoped>\n",
       "    .dataframe tbody tr th:only-of-type {\n",
       "        vertical-align: middle;\n",
       "    }\n",
       "\n",
       "    .dataframe tbody tr th {\n",
       "        vertical-align: top;\n",
       "    }\n",
       "\n",
       "    .dataframe thead th {\n",
       "        text-align: right;\n",
       "    }\n",
       "</style>\n",
       "<table border=\"1\" class=\"dataframe\">\n",
       "  <thead>\n",
       "    <tr style=\"text-align: right;\">\n",
       "      <th></th>\n",
       "      <th>count</th>\n",
       "      <th>mean</th>\n",
       "      <th>std</th>\n",
       "      <th>min</th>\n",
       "      <th>25%</th>\n",
       "      <th>50%</th>\n",
       "      <th>75%</th>\n",
       "      <th>max</th>\n",
       "    </tr>\n",
       "  </thead>\n",
       "  <tbody>\n",
       "    <tr>\n",
       "      <th>Distance</th>\n",
       "      <td>1129.0</td>\n",
       "      <td>3.747033e+00</td>\n",
       "      <td>1.774492</td>\n",
       "      <td>0.0</td>\n",
       "      <td>2.7</td>\n",
       "      <td>3.4</td>\n",
       "      <td>4.3</td>\n",
       "      <td>8.7</td>\n",
       "    </tr>\n",
       "    <tr>\n",
       "      <th>Price</th>\n",
       "      <td>1129.0</td>\n",
       "      <td>1.008926e+06</td>\n",
       "      <td>586517.307921</td>\n",
       "      <td>210000.0</td>\n",
       "      <td>570000.0</td>\n",
       "      <td>888000.0</td>\n",
       "      <td>1280000.0</td>\n",
       "      <td>5700000.0</td>\n",
       "    </tr>\n",
       "  </tbody>\n",
       "</table>\n",
       "</div>"
      ],
      "text/plain": [
       "           count          mean            std       min       25%       50%  \\\n",
       "Distance  1129.0  3.747033e+00       1.774492       0.0       2.7       3.4   \n",
       "Price     1129.0  1.008926e+06  586517.307921  210000.0  570000.0  888000.0   \n",
       "\n",
       "                75%        max  \n",
       "Distance        4.3        8.7  \n",
       "Price     1280000.0  5700000.0  "
      ]
     },
     "execution_count": 6,
     "metadata": {},
     "output_type": "execute_result"
    }
   ],
   "source": [
    "df1.describe().transpose()"
   ]
  },
  {
   "cell_type": "markdown",
   "metadata": {},
   "source": [
    "Sekarang, tugas kalian adalah:  \n",
    "* Eksplorasi dan berikan gambaran umum dari data di atas (missing value, outliers, descriptive statistics)\n",
    "    * Coba isi missing value berdasarkan hasil eksplorasi kalian\n",
    "* Buat analisis sederhana untuk mencari tahu hubungan tiap-tiap variabel dengan kolom `Price`. Lakukan uji statistik untuk mengkonfirmasi temuan kalian!\n",
    "* Berikan simpulan dari analisis kalian. Saran apa yang bisa kalian berikan **kepada calon pembeli rumah** berdasarkan hasil analisis kalian?"
   ]
  },
  {
   "cell_type": "markdown",
   "metadata": {},
   "source": [
    "1. Suburb\n",
    "2. Regionname\n",
    "3. Type\n",
    "4. Distance from CBD (Central Business District)\n",
    "\n",
    "* rumah dengan type mana yang paling ideal berdasarkan lokasi (subrub, regional, distance(from CBD)) nya"
   ]
  },
  {
   "cell_type": "markdown",
   "metadata": {},
   "source": [
    "## Cleansing Data"
   ]
  },
  {
   "cell_type": "code",
   "execution_count": 7,
   "metadata": {},
   "outputs": [
    {
     "name": "stdout",
     "output_type": "stream",
     "text": [
      "<class 'pandas.core.frame.DataFrame'>\n",
      "RangeIndex: 1129 entries, 0 to 1128\n",
      "Data columns (total 6 columns):\n",
      " #   Column      Non-Null Count  Dtype  \n",
      "---  ------      --------------  -----  \n",
      " 0   Suburb      1129 non-null   object \n",
      " 1   Type        1129 non-null   object \n",
      " 2   Date        1129 non-null   object \n",
      " 3   Distance    1129 non-null   float64\n",
      " 4   Regionname  1129 non-null   object \n",
      " 5   Price       1129 non-null   float64\n",
      "dtypes: float64(2), object(4)\n",
      "memory usage: 53.0+ KB\n"
     ]
    }
   ],
   "source": [
    "df1.info()"
   ]
  },
  {
   "cell_type": "code",
   "execution_count": 8,
   "metadata": {},
   "outputs": [
    {
     "name": "stderr",
     "output_type": "stream",
     "text": [
      "C:\\Users\\USER\\AppData\\Local\\Programs\\Python\\Python310\\lib\\site-packages\\pandas\\core\\frame.py:3641: SettingWithCopyWarning: \n",
      "A value is trying to be set on a copy of a slice from a DataFrame.\n",
      "Try using .loc[row_indexer,col_indexer] = value instead\n",
      "\n",
      "See the caveats in the documentation: https://pandas.pydata.org/pandas-docs/stable/user_guide/indexing.html#returning-a-view-versus-a-copy\n",
      "  self[k1] = value[k2]\n"
     ]
    }
   ],
   "source": [
    "df1[['Suburb','Type','Regionname']]= df1[['Suburb','Type','Regionname']].astype(\"category\")"
   ]
  },
  {
   "cell_type": "code",
   "execution_count": 9,
   "metadata": {},
   "outputs": [
    {
     "name": "stderr",
     "output_type": "stream",
     "text": [
      "C:\\Users\\USER\\AppData\\Local\\Temp/ipykernel_11672/580751001.py:1: SettingWithCopyWarning: \n",
      "A value is trying to be set on a copy of a slice from a DataFrame.\n",
      "Try using .loc[row_indexer,col_indexer] = value instead\n",
      "\n",
      "See the caveats in the documentation: https://pandas.pydata.org/pandas-docs/stable/user_guide/indexing.html#returning-a-view-versus-a-copy\n",
      "  df1['Date']=pd.to_datetime(df1['Date'])\n"
     ]
    }
   ],
   "source": [
    "df1['Date']=pd.to_datetime(df1['Date'])"
   ]
  },
  {
   "cell_type": "code",
   "execution_count": 10,
   "metadata": {},
   "outputs": [
    {
     "name": "stdout",
     "output_type": "stream",
     "text": [
      "<class 'pandas.core.frame.DataFrame'>\n",
      "RangeIndex: 1129 entries, 0 to 1128\n",
      "Data columns (total 6 columns):\n",
      " #   Column      Non-Null Count  Dtype         \n",
      "---  ------      --------------  -----         \n",
      " 0   Suburb      1129 non-null   category      \n",
      " 1   Type        1129 non-null   category      \n",
      " 2   Date        1129 non-null   datetime64[ns]\n",
      " 3   Distance    1129 non-null   float64       \n",
      " 4   Regionname  1129 non-null   category      \n",
      " 5   Price       1129 non-null   float64       \n",
      "dtypes: category(3), datetime64[ns](1), float64(2)\n",
      "memory usage: 30.8 KB\n"
     ]
    }
   ],
   "source": [
    "df1.info()"
   ]
  },
  {
   "cell_type": "code",
   "execution_count": 11,
   "metadata": {},
   "outputs": [
    {
     "data": {
      "text/plain": [
       "Suburb        0\n",
       "Type          0\n",
       "Date          0\n",
       "Distance      0\n",
       "Regionname    0\n",
       "Price         0\n",
       "dtype: int64"
      ]
     },
     "execution_count": 11,
     "metadata": {},
     "output_type": "execute_result"
    }
   ],
   "source": [
    "df1.isna().sum()"
   ]
  },
  {
   "cell_type": "code",
   "execution_count": 12,
   "metadata": {},
   "outputs": [
    {
     "data": {
      "text/plain": [
       "['u', 'h', 't']\n",
       "Categories (3, object): ['h', 't', 'u']"
      ]
     },
     "execution_count": 12,
     "metadata": {},
     "output_type": "execute_result"
    }
   ],
   "source": [
    "df1['Type'].unique()"
   ]
  },
  {
   "cell_type": "code",
   "execution_count": 13,
   "metadata": {},
   "outputs": [
    {
     "name": "stderr",
     "output_type": "stream",
     "text": [
      "C:\\Users\\USER\\AppData\\Local\\Temp/ipykernel_11672/4113983686.py:9: SettingWithCopyWarning: \n",
      "A value is trying to be set on a copy of a slice from a DataFrame.\n",
      "Try using .loc[row_indexer,col_indexer] = value instead\n",
      "\n",
      "See the caveats in the documentation: https://pandas.pydata.org/pandas-docs/stable/user_guide/indexing.html#returning-a-view-versus-a-copy\n",
      "  df1['Type'] = xr\n"
     ]
    }
   ],
   "source": [
    "xr = []\n",
    "for i in df1['Type']:\n",
    "    if i == 'h':\n",
    "        xr.append('House')\n",
    "    elif i == 't':\n",
    "        xr.append('Townhouse')\n",
    "    elif i == 'u':\n",
    "        xr.append('Duplex')\n",
    "df1['Type'] = xr"
   ]
  },
  {
   "cell_type": "code",
   "execution_count": 14,
   "metadata": {},
   "outputs": [
    {
     "data": {
      "text/html": [
       "<div>\n",
       "<style scoped>\n",
       "    .dataframe tbody tr th:only-of-type {\n",
       "        vertical-align: middle;\n",
       "    }\n",
       "\n",
       "    .dataframe tbody tr th {\n",
       "        vertical-align: top;\n",
       "    }\n",
       "\n",
       "    .dataframe thead th {\n",
       "        text-align: right;\n",
       "    }\n",
       "</style>\n",
       "<table border=\"1\" class=\"dataframe\">\n",
       "  <thead>\n",
       "    <tr style=\"text-align: right;\">\n",
       "      <th></th>\n",
       "      <th>Suburb</th>\n",
       "      <th>Type</th>\n",
       "      <th>Date</th>\n",
       "      <th>Distance</th>\n",
       "      <th>Regionname</th>\n",
       "      <th>Price</th>\n",
       "    </tr>\n",
       "  </thead>\n",
       "  <tbody>\n",
       "    <tr>\n",
       "      <th>0</th>\n",
       "      <td>Ascot Vale</td>\n",
       "      <td>Duplex</td>\n",
       "      <td>2016-03-09</td>\n",
       "      <td>5.9</td>\n",
       "      <td>Western Metropolitan</td>\n",
       "      <td>455000.0</td>\n",
       "    </tr>\n",
       "    <tr>\n",
       "      <th>1</th>\n",
       "      <td>Ascot Vale</td>\n",
       "      <td>House</td>\n",
       "      <td>2016-03-12</td>\n",
       "      <td>5.9</td>\n",
       "      <td>Western Metropolitan</td>\n",
       "      <td>940000.0</td>\n",
       "    </tr>\n",
       "    <tr>\n",
       "      <th>2</th>\n",
       "      <td>Ascot Vale</td>\n",
       "      <td>Duplex</td>\n",
       "      <td>2016-03-12</td>\n",
       "      <td>5.9</td>\n",
       "      <td>Western Metropolitan</td>\n",
       "      <td>467000.0</td>\n",
       "    </tr>\n",
       "    <tr>\n",
       "      <th>3</th>\n",
       "      <td>Ascot Vale</td>\n",
       "      <td>House</td>\n",
       "      <td>2017-04-03</td>\n",
       "      <td>5.9</td>\n",
       "      <td>Western Metropolitan</td>\n",
       "      <td>1380000.0</td>\n",
       "    </tr>\n",
       "    <tr>\n",
       "      <th>4</th>\n",
       "      <td>Ascot Vale</td>\n",
       "      <td>Duplex</td>\n",
       "      <td>2017-04-03</td>\n",
       "      <td>5.9</td>\n",
       "      <td>Western Metropolitan</td>\n",
       "      <td>490000.0</td>\n",
       "    </tr>\n",
       "  </tbody>\n",
       "</table>\n",
       "</div>"
      ],
      "text/plain": [
       "       Suburb    Type       Date  Distance            Regionname      Price\n",
       "0  Ascot Vale  Duplex 2016-03-09       5.9  Western Metropolitan   455000.0\n",
       "1  Ascot Vale   House 2016-03-12       5.9  Western Metropolitan   940000.0\n",
       "2  Ascot Vale  Duplex 2016-03-12       5.9  Western Metropolitan   467000.0\n",
       "3  Ascot Vale   House 2017-04-03       5.9  Western Metropolitan  1380000.0\n",
       "4  Ascot Vale  Duplex 2017-04-03       5.9  Western Metropolitan   490000.0"
      ]
     },
     "execution_count": 14,
     "metadata": {},
     "output_type": "execute_result"
    }
   ],
   "source": [
    "df1.head()"
   ]
  },
  {
   "cell_type": "code",
   "execution_count": 15,
   "metadata": {},
   "outputs": [
    {
     "data": {
      "text/html": [
       "<div>\n",
       "<style scoped>\n",
       "    .dataframe tbody tr th:only-of-type {\n",
       "        vertical-align: middle;\n",
       "    }\n",
       "\n",
       "    .dataframe tbody tr th {\n",
       "        vertical-align: top;\n",
       "    }\n",
       "\n",
       "    .dataframe thead th {\n",
       "        text-align: right;\n",
       "    }\n",
       "</style>\n",
       "<table border=\"1\" class=\"dataframe\">\n",
       "  <thead>\n",
       "    <tr style=\"text-align: right;\">\n",
       "      <th></th>\n",
       "      <th>Suburb</th>\n",
       "      <th>Type</th>\n",
       "      <th>Date</th>\n",
       "      <th>Distance</th>\n",
       "      <th>Regionname</th>\n",
       "      <th>Price</th>\n",
       "    </tr>\n",
       "  </thead>\n",
       "  <tbody>\n",
       "    <tr>\n",
       "      <th>925</th>\n",
       "      <td>Melbourne</td>\n",
       "      <td>Duplex</td>\n",
       "      <td>2017-06-17</td>\n",
       "      <td>0.0</td>\n",
       "      <td>Northern Metropolitan</td>\n",
       "      <td>740000.0</td>\n",
       "    </tr>\n",
       "    <tr>\n",
       "      <th>979</th>\n",
       "      <td>Melbourne</td>\n",
       "      <td>Duplex</td>\n",
       "      <td>2017-05-27</td>\n",
       "      <td>0.0</td>\n",
       "      <td>Northern Metropolitan</td>\n",
       "      <td>720000.0</td>\n",
       "    </tr>\n",
       "    <tr>\n",
       "      <th>999</th>\n",
       "      <td>Melbourne</td>\n",
       "      <td>Duplex</td>\n",
       "      <td>2017-08-07</td>\n",
       "      <td>0.0</td>\n",
       "      <td>Northern Metropolitan</td>\n",
       "      <td>1075000.0</td>\n",
       "    </tr>\n",
       "    <tr>\n",
       "      <th>1039</th>\n",
       "      <td>Melbourne</td>\n",
       "      <td>Duplex</td>\n",
       "      <td>2017-07-15</td>\n",
       "      <td>0.0</td>\n",
       "      <td>Northern Metropolitan</td>\n",
       "      <td>387000.0</td>\n",
       "    </tr>\n",
       "    <tr>\n",
       "      <th>1068</th>\n",
       "      <td>Melbourne</td>\n",
       "      <td>Duplex</td>\n",
       "      <td>2017-07-29</td>\n",
       "      <td>0.0</td>\n",
       "      <td>Northern Metropolitan</td>\n",
       "      <td>565000.0</td>\n",
       "    </tr>\n",
       "    <tr>\n",
       "      <th>1069</th>\n",
       "      <td>Melbourne</td>\n",
       "      <td>Duplex</td>\n",
       "      <td>2017-07-29</td>\n",
       "      <td>0.0</td>\n",
       "      <td>Northern Metropolitan</td>\n",
       "      <td>540000.0</td>\n",
       "    </tr>\n",
       "  </tbody>\n",
       "</table>\n",
       "</div>"
      ],
      "text/plain": [
       "         Suburb    Type       Date  Distance             Regionname      Price\n",
       "925   Melbourne  Duplex 2017-06-17       0.0  Northern Metropolitan   740000.0\n",
       "979   Melbourne  Duplex 2017-05-27       0.0  Northern Metropolitan   720000.0\n",
       "999   Melbourne  Duplex 2017-08-07       0.0  Northern Metropolitan  1075000.0\n",
       "1039  Melbourne  Duplex 2017-07-15       0.0  Northern Metropolitan   387000.0\n",
       "1068  Melbourne  Duplex 2017-07-29       0.0  Northern Metropolitan   565000.0\n",
       "1069  Melbourne  Duplex 2017-07-29       0.0  Northern Metropolitan   540000.0"
      ]
     },
     "execution_count": 15,
     "metadata": {},
     "output_type": "execute_result"
    }
   ],
   "source": [
    "df1[df1['Distance']==0]"
   ]
  },
  {
   "cell_type": "markdown",
   "metadata": {},
   "source": [
    "Karena distance berpacu terhadap CBD, sehingga values 0 yang berada di distance normal dan dapat menjadi bahan analisis selanjutnya. "
   ]
  },
  {
   "cell_type": "code",
   "execution_count": 16,
   "metadata": {
    "scrolled": true
   },
   "outputs": [
    {
     "data": {
      "text/html": [
       "<div>\n",
       "<style scoped>\n",
       "    .dataframe tbody tr th:only-of-type {\n",
       "        vertical-align: middle;\n",
       "    }\n",
       "\n",
       "    .dataframe tbody tr th {\n",
       "        vertical-align: top;\n",
       "    }\n",
       "\n",
       "    .dataframe thead th {\n",
       "        text-align: right;\n",
       "    }\n",
       "</style>\n",
       "<table border=\"1\" class=\"dataframe\">\n",
       "  <thead>\n",
       "    <tr style=\"text-align: right;\">\n",
       "      <th></th>\n",
       "      <th>count</th>\n",
       "      <th>mean</th>\n",
       "      <th>std</th>\n",
       "      <th>min</th>\n",
       "      <th>25%</th>\n",
       "      <th>50%</th>\n",
       "      <th>75%</th>\n",
       "      <th>max</th>\n",
       "    </tr>\n",
       "  </thead>\n",
       "  <tbody>\n",
       "    <tr>\n",
       "      <th>Distance</th>\n",
       "      <td>1129.0</td>\n",
       "      <td>3.747033e+00</td>\n",
       "      <td>1.774492</td>\n",
       "      <td>0.0</td>\n",
       "      <td>2.7</td>\n",
       "      <td>3.4</td>\n",
       "      <td>4.3</td>\n",
       "      <td>8.7</td>\n",
       "    </tr>\n",
       "    <tr>\n",
       "      <th>Price</th>\n",
       "      <td>1129.0</td>\n",
       "      <td>1.008926e+06</td>\n",
       "      <td>586517.307921</td>\n",
       "      <td>210000.0</td>\n",
       "      <td>570000.0</td>\n",
       "      <td>888000.0</td>\n",
       "      <td>1280000.0</td>\n",
       "      <td>5700000.0</td>\n",
       "    </tr>\n",
       "  </tbody>\n",
       "</table>\n",
       "</div>"
      ],
      "text/plain": [
       "           count          mean            std       min       25%       50%  \\\n",
       "Distance  1129.0  3.747033e+00       1.774492       0.0       2.7       3.4   \n",
       "Price     1129.0  1.008926e+06  586517.307921  210000.0  570000.0  888000.0   \n",
       "\n",
       "                75%        max  \n",
       "Distance        4.3        8.7  \n",
       "Price     1280000.0  5700000.0  "
      ]
     },
     "execution_count": 16,
     "metadata": {},
     "output_type": "execute_result"
    }
   ],
   "source": [
    "df1.describe().transpose()"
   ]
  },
  {
   "cell_type": "code",
   "execution_count": 17,
   "metadata": {},
   "outputs": [
    {
     "data": {
      "text/html": [
       "<div>\n",
       "<style scoped>\n",
       "    .dataframe tbody tr th:only-of-type {\n",
       "        vertical-align: middle;\n",
       "    }\n",
       "\n",
       "    .dataframe tbody tr th {\n",
       "        vertical-align: top;\n",
       "    }\n",
       "\n",
       "    .dataframe thead th {\n",
       "        text-align: right;\n",
       "    }\n",
       "</style>\n",
       "<table border=\"1\" class=\"dataframe\">\n",
       "  <thead>\n",
       "    <tr style=\"text-align: right;\">\n",
       "      <th></th>\n",
       "      <th>Suburb</th>\n",
       "      <th>Type</th>\n",
       "      <th>Date</th>\n",
       "      <th>Distance</th>\n",
       "      <th>Regionname</th>\n",
       "      <th>Price</th>\n",
       "    </tr>\n",
       "  </thead>\n",
       "  <tbody>\n",
       "    <tr>\n",
       "      <th>0</th>\n",
       "      <td>Ascot Vale</td>\n",
       "      <td>Duplex</td>\n",
       "      <td>2016-03-09</td>\n",
       "      <td>5.9</td>\n",
       "      <td>Western Metropolitan</td>\n",
       "      <td>455000.0</td>\n",
       "    </tr>\n",
       "    <tr>\n",
       "      <th>1</th>\n",
       "      <td>Ascot Vale</td>\n",
       "      <td>House</td>\n",
       "      <td>2016-03-12</td>\n",
       "      <td>5.9</td>\n",
       "      <td>Western Metropolitan</td>\n",
       "      <td>940000.0</td>\n",
       "    </tr>\n",
       "    <tr>\n",
       "      <th>2</th>\n",
       "      <td>Ascot Vale</td>\n",
       "      <td>Duplex</td>\n",
       "      <td>2016-03-12</td>\n",
       "      <td>5.9</td>\n",
       "      <td>Western Metropolitan</td>\n",
       "      <td>467000.0</td>\n",
       "    </tr>\n",
       "    <tr>\n",
       "      <th>3</th>\n",
       "      <td>Ascot Vale</td>\n",
       "      <td>House</td>\n",
       "      <td>2017-04-03</td>\n",
       "      <td>5.9</td>\n",
       "      <td>Western Metropolitan</td>\n",
       "      <td>1380000.0</td>\n",
       "    </tr>\n",
       "    <tr>\n",
       "      <th>4</th>\n",
       "      <td>Ascot Vale</td>\n",
       "      <td>Duplex</td>\n",
       "      <td>2017-04-03</td>\n",
       "      <td>5.9</td>\n",
       "      <td>Western Metropolitan</td>\n",
       "      <td>490000.0</td>\n",
       "    </tr>\n",
       "    <tr>\n",
       "      <th>...</th>\n",
       "      <td>...</td>\n",
       "      <td>...</td>\n",
       "      <td>...</td>\n",
       "      <td>...</td>\n",
       "      <td>...</td>\n",
       "      <td>...</td>\n",
       "    </tr>\n",
       "    <tr>\n",
       "      <th>1124</th>\n",
       "      <td>Carlton</td>\n",
       "      <td>House</td>\n",
       "      <td>2017-08-26</td>\n",
       "      <td>1.6</td>\n",
       "      <td>Northern Metropolitan</td>\n",
       "      <td>1760000.0</td>\n",
       "    </tr>\n",
       "    <tr>\n",
       "      <th>1125</th>\n",
       "      <td>Maribyrnong</td>\n",
       "      <td>House</td>\n",
       "      <td>2017-08-26</td>\n",
       "      <td>4.3</td>\n",
       "      <td>Western Metropolitan</td>\n",
       "      <td>3400000.0</td>\n",
       "    </tr>\n",
       "    <tr>\n",
       "      <th>1126</th>\n",
       "      <td>North Melbourne</td>\n",
       "      <td>House</td>\n",
       "      <td>2017-08-26</td>\n",
       "      <td>1.8</td>\n",
       "      <td>Northern Metropolitan</td>\n",
       "      <td>1080000.0</td>\n",
       "    </tr>\n",
       "    <tr>\n",
       "      <th>1127</th>\n",
       "      <td>Port Melbourne</td>\n",
       "      <td>Townhouse</td>\n",
       "      <td>2017-08-26</td>\n",
       "      <td>3.5</td>\n",
       "      <td>Southern Metropolitan</td>\n",
       "      <td>2455000.0</td>\n",
       "    </tr>\n",
       "    <tr>\n",
       "      <th>1128</th>\n",
       "      <td>Port Melbourne</td>\n",
       "      <td>House</td>\n",
       "      <td>2017-08-26</td>\n",
       "      <td>3.5</td>\n",
       "      <td>Southern Metropolitan</td>\n",
       "      <td>1515000.0</td>\n",
       "    </tr>\n",
       "  </tbody>\n",
       "</table>\n",
       "<p>1129 rows × 6 columns</p>\n",
       "</div>"
      ],
      "text/plain": [
       "               Suburb       Type       Date  Distance             Regionname  \\\n",
       "0          Ascot Vale     Duplex 2016-03-09       5.9   Western Metropolitan   \n",
       "1          Ascot Vale      House 2016-03-12       5.9   Western Metropolitan   \n",
       "2          Ascot Vale     Duplex 2016-03-12       5.9   Western Metropolitan   \n",
       "3          Ascot Vale      House 2017-04-03       5.9   Western Metropolitan   \n",
       "4          Ascot Vale     Duplex 2017-04-03       5.9   Western Metropolitan   \n",
       "...               ...        ...        ...       ...                    ...   \n",
       "1124          Carlton      House 2017-08-26       1.6  Northern Metropolitan   \n",
       "1125      Maribyrnong      House 2017-08-26       4.3   Western Metropolitan   \n",
       "1126  North Melbourne      House 2017-08-26       1.8  Northern Metropolitan   \n",
       "1127   Port Melbourne  Townhouse 2017-08-26       3.5  Southern Metropolitan   \n",
       "1128   Port Melbourne      House 2017-08-26       3.5  Southern Metropolitan   \n",
       "\n",
       "          Price  \n",
       "0      455000.0  \n",
       "1      940000.0  \n",
       "2      467000.0  \n",
       "3     1380000.0  \n",
       "4      490000.0  \n",
       "...         ...  \n",
       "1124  1760000.0  \n",
       "1125  3400000.0  \n",
       "1126  1080000.0  \n",
       "1127  2455000.0  \n",
       "1128  1515000.0  \n",
       "\n",
       "[1129 rows x 6 columns]"
      ]
     },
     "execution_count": 17,
     "metadata": {},
     "output_type": "execute_result"
    }
   ],
   "source": [
    "df1"
   ]
  },
  {
   "cell_type": "markdown",
   "metadata": {},
   "source": [
    "## Explorasi data\n",
    "* uji statistik dan analisis sederhana"
   ]
  },
  {
   "cell_type": "code",
   "execution_count": 18,
   "metadata": {},
   "outputs": [
    {
     "name": "stderr",
     "output_type": "stream",
     "text": [
      "C:\\Users\\USER\\AppData\\Local\\Programs\\Python\\Python310\\lib\\site-packages\\seaborn\\_decorators.py:36: FutureWarning: Pass the following variable as a keyword arg: x. From version 0.12, the only valid positional argument will be `data`, and passing other arguments without an explicit keyword will result in an error or misinterpretation.\n",
      "  warnings.warn(\n"
     ]
    },
    {
     "data": {
      "text/plain": [
       "Text(0.5, 1.0, 'Jumlah hunian berdasarkan suburb')"
      ]
     },
     "execution_count": 18,
     "metadata": {},
     "output_type": "execute_result"
    },
    {
     "data": {
      "image/png": "[encoded data removed]",
      "text/plain": [
       "<Figure size 720x432 with 1 Axes>"
      ]
     },
     "metadata": {
      "needs_background": "light"
     },
     "output_type": "display_data"
    }
   ],
   "source": [
    "plt.figure(figsize=(10,6))\n",
    "g=sns.countplot(df1['Suburb'],data=df1,palette='Set2')\n",
    "g.set_xticklabels(g.get_xticklabels(), rotation=90)\n",
    "g.set_title('Jumlah hunian berdasarkan suburb',fontsize=15)"
   ]
  },
  {
   "cell_type": "markdown",
   "metadata": {},
   "source": [
    "berdasarkan data di atas Suburb yang terdapat rumah yang paling banyak yaitu bisa kita ranking kan:\n",
    "1. South Yarra (Southern metropolitan)\n",
    "2. Port Melbourne (Southern metropolitan)\n",
    "3. Ascot Vale (Western metropolitan)\n",
    "\n",
    "sehingga apabila ingin lokasi yang ramai dalam artian banyak rumah-rumah, maka dapat memperimbangkan di 3 Suburb tersebut"
   ]
  },
  {
   "cell_type": "code",
   "execution_count": 19,
   "metadata": {
    "scrolled": false
   },
   "outputs": [
    {
     "data": {
      "text/plain": [
       "Text(0.5, 1.0, 'Jumlah type rumah berdasarkan region nya')"
      ]
     },
     "execution_count": 19,
     "metadata": {},
     "output_type": "execute_result"
    },
    {
     "data": {
      "image/png": "[encoded data removed]",
      "text/plain": [
       "<Figure size 720x432 with 1 Axes>"
      ]
     },
     "metadata": {
      "needs_background": "light"
     },
     "output_type": "display_data"
    }
   ],
   "source": [
    "plt.figure(figsize=(10,6))\n",
    "g=sns.countplot(df1['Regionname'],hue='Type',data=df1,palette='Set2')\n",
    "g.set_xticklabels(g.get_xticklabels(), rotation=90)\n",
    "g.set_title('Jumlah type rumah berdasarkan region nya',fontsize=15)"
   ]
  },
  {
   "cell_type": "code",
   "execution_count": 20,
   "metadata": {},
   "outputs": [
    {
     "data": {
      "text/html": [
       "<div>\n",
       "<style scoped>\n",
       "    .dataframe tbody tr th:only-of-type {\n",
       "        vertical-align: middle;\n",
       "    }\n",
       "\n",
       "    .dataframe tbody tr th {\n",
       "        vertical-align: top;\n",
       "    }\n",
       "\n",
       "    .dataframe thead th {\n",
       "        text-align: right;\n",
       "    }\n",
       "</style>\n",
       "<table border=\"1\" class=\"dataframe\">\n",
       "  <thead>\n",
       "    <tr style=\"text-align: right;\">\n",
       "      <th>Type</th>\n",
       "      <th>Duplex</th>\n",
       "      <th>House</th>\n",
       "      <th>Townhouse</th>\n",
       "    </tr>\n",
       "    <tr>\n",
       "      <th>Regionname</th>\n",
       "      <th></th>\n",
       "      <th></th>\n",
       "      <th></th>\n",
       "    </tr>\n",
       "  </thead>\n",
       "  <tbody>\n",
       "    <tr>\n",
       "      <th>Northern Metropolitan</th>\n",
       "      <td>0.453441</td>\n",
       "      <td>0.463563</td>\n",
       "      <td>0.082996</td>\n",
       "    </tr>\n",
       "    <tr>\n",
       "      <th>Southern Metropolitan</th>\n",
       "      <td>0.626566</td>\n",
       "      <td>0.338346</td>\n",
       "      <td>0.035088</td>\n",
       "    </tr>\n",
       "    <tr>\n",
       "      <th>Western Metropolitan</th>\n",
       "      <td>0.194915</td>\n",
       "      <td>0.652542</td>\n",
       "      <td>0.152542</td>\n",
       "    </tr>\n",
       "  </tbody>\n",
       "</table>\n",
       "</div>"
      ],
      "text/plain": [
       "Type                     Duplex     House  Townhouse\n",
       "Regionname                                          \n",
       "Northern Metropolitan  0.453441  0.463563   0.082996\n",
       "Southern Metropolitan  0.626566  0.338346   0.035088\n",
       "Western Metropolitan   0.194915  0.652542   0.152542"
      ]
     },
     "execution_count": 20,
     "metadata": {},
     "output_type": "execute_result"
    }
   ],
   "source": [
    "area=pd.crosstab(df1['Regionname'],df1['Type'],normalize='index')\n",
    "area"
   ]
  },
  {
   "cell_type": "markdown",
   "metadata": {},
   "source": [
    "Berdasarkan data di atas jika anda ingin memiliki rumah dengan type duplex disarankan memilih lokasi pada region southern metropolitan dan northern metropolitan yag memiliki jumlah type rumah duplex yang banyak, dan untuk tipe yang lain rata-rata di setiap region hampir sama jumlah nya tetapi untuk type hause yang cukup banyak ada di nothern metropolitan dan untuk townhouse tidak di saran kan di daerah region southern metropolitan karena hanya sedikit jumlah townhouse yang berada di sana."
   ]
  },
  {
   "cell_type": "markdown",
   "metadata": {},
   "source": [
    "## Uji statistik Suburb dan type\n",
    "\n",
    "**Hypothesis**\n",
    "\n",
    "H0: suburb tidak memiliki keterkaitan dengan type\n",
    "\n",
    "H1: suburb memiliki keterkaitan dengan type"
   ]
  },
  {
   "cell_type": "code",
   "execution_count": 21,
   "metadata": {},
   "outputs": [
    {
     "data": {
      "text/plain": [
       "South Yarra        202\n",
       "Port Melbourne     153\n",
       "Ascot Vale         130\n",
       "Kensington         117\n",
       "Maribyrnong         96\n",
       "North Melbourne     81\n",
       "Flemington          62\n",
       "Carlton             51\n",
       "Carlton North       48\n",
       "Melbourne           46\n",
       "Southbank           41\n",
       "Parkville           31\n",
       "West Melbourne      31\n",
       "East Melbourne      22\n",
       "Travancore          10\n",
       "Princes Hill         5\n",
       "Docklands            3\n",
       "Name: Suburb, dtype: int64"
      ]
     },
     "execution_count": 21,
     "metadata": {},
     "output_type": "execute_result"
    }
   ],
   "source": [
    "df1['Suburb'].value_counts()"
   ]
  },
  {
   "cell_type": "code",
   "execution_count": 22,
   "metadata": {},
   "outputs": [
    {
     "data": {
      "text/plain": [
       "(337.8764768738364,\n",
       " 9.34513405820789e-53,\n",
       " 32,\n",
       " array([[59.87599646, 59.64570416, 10.47829938],\n",
       "        [23.48981399, 23.39946856,  4.11071745],\n",
       "        [22.10806023, 22.02302923,  3.86891054],\n",
       "        [ 1.38175376,  1.37643933,  0.24180691],\n",
       "        [10.13286094, 10.0938884 ,  1.77325066],\n",
       "        [28.55624446, 28.44641275,  4.99734278],\n",
       "        [53.88839681, 53.68113375,  9.43046944],\n",
       "        [44.21612046, 44.04605846,  7.73782108],\n",
       "        [21.18689105, 21.10540301,  3.70770593],\n",
       "        [37.30735164, 37.16386182,  6.52878654],\n",
       "        [14.27812223, 14.22320638,  2.49867139],\n",
       "        [70.46944198, 70.19840567, 12.33215235],\n",
       "        [ 2.30292294,  2.29406554,  0.40301151],\n",
       "        [93.0380868 , 92.68024801, 16.28166519],\n",
       "        [18.88396811, 18.81133747,  3.30469442],\n",
       "        [ 4.60584588,  4.58813109,  0.80602303],\n",
       "        [14.27812223, 14.22320638,  2.49867139]]))"
      ]
     },
     "execution_count": 22,
     "metadata": {},
     "output_type": "execute_result"
    }
   ],
   "source": [
    "from scipy.stats import chi2_contingency\n",
    "chi2_contingency(pd.crosstab(df1['Suburb'],df1['Type']))"
   ]
  },
  {
   "cell_type": "code",
   "execution_count": 23,
   "metadata": {},
   "outputs": [
    {
     "name": "stdout",
     "output_type": "stream",
     "text": [
      "9.34513405820789e-53\n",
      "tolak h0\n"
     ]
    }
   ],
   "source": [
    "stats, pval, dof, expected=chi2_contingency(pd.crosstab(df1['Suburb'],df1['Type']))\n",
    "print(pval)\n",
    "\n",
    "if pval<=0.05:\n",
    "    print('tolak h0')\n",
    "else:\n",
    "    print('terima h0')"
   ]
  },
  {
   "cell_type": "markdown",
   "metadata": {},
   "source": [
    "## Mengkaitkan data dengan harga\n",
    "\n",
    "* untuk mendapatkan insight baru mengenai variable yang dapat mempengaruhi harga"
   ]
  },
  {
   "cell_type": "code",
   "execution_count": 24,
   "metadata": {},
   "outputs": [
    {
     "name": "stderr",
     "output_type": "stream",
     "text": [
      "C:\\Users\\USER\\AppData\\Local\\Programs\\Python\\Python310\\lib\\site-packages\\seaborn\\distributions.py:2619: FutureWarning: `distplot` is a deprecated function and will be removed in a future version. Please adapt your code to use either `displot` (a figure-level function with similar flexibility) or `histplot` (an axes-level function for histograms).\n",
      "  warnings.warn(msg, FutureWarning)\n"
     ]
    },
    {
     "data": {
      "text/plain": [
       "<AxesSubplot:xlabel='Price', ylabel='Density'>"
      ]
     },
     "execution_count": 24,
     "metadata": {},
     "output_type": "execute_result"
    },
    {
     "data": {
      "image/png": "[encoded data removed]",
      "text/plain": [
       "<Figure size 432x288 with 1 Axes>"
      ]
     },
     "metadata": {
      "needs_background": "light"
     },
     "output_type": "display_data"
    }
   ],
   "source": [
    "sns.distplot(df1['Price'])"
   ]
  },
  {
   "cell_type": "markdown",
   "metadata": {},
   "source": [
    "Distribusi dari data price **tidak normal**"
   ]
  },
  {
   "cell_type": "code",
   "execution_count": 25,
   "metadata": {},
   "outputs": [
    {
     "name": "stdout",
     "output_type": "stream",
     "text": [
      "8.001825144917476e-31\n",
      "distribusi data diasumsikan tidak normal\n"
     ]
    }
   ],
   "source": [
    "from scipy.stats import shapiro\n",
    "stats, pval=shapiro(df1['Price'])\n",
    "print(pval)\n",
    "\n",
    "if pval>0.05:\n",
    "    print('distribusi data diasumsikan normal')\n",
    "else:\n",
    "    print('distribusi data diasumsikan tidak normal')"
   ]
  },
  {
   "cell_type": "code",
   "execution_count": 26,
   "metadata": {},
   "outputs": [
    {
     "name": "stdout",
     "output_type": "stream",
     "text": [
      "8.001825144917476e-31\n",
      "6.826237205936953e-29\n"
     ]
    },
    {
     "data": {
      "text/html": [
       "<div>\n",
       "<style scoped>\n",
       "    .dataframe tbody tr th:only-of-type {\n",
       "        vertical-align: middle;\n",
       "    }\n",
       "\n",
       "    .dataframe tbody tr th {\n",
       "        vertical-align: top;\n",
       "    }\n",
       "\n",
       "    .dataframe thead th {\n",
       "        text-align: right;\n",
       "    }\n",
       "</style>\n",
       "<table border=\"1\" class=\"dataframe\">\n",
       "  <thead>\n",
       "    <tr style=\"text-align: right;\">\n",
       "      <th></th>\n",
       "      <th>0</th>\n",
       "    </tr>\n",
       "  </thead>\n",
       "  <tbody>\n",
       "    <tr>\n",
       "      <th>Price</th>\n",
       "      <td>tidak normal</td>\n",
       "    </tr>\n",
       "    <tr>\n",
       "      <th>Distance</th>\n",
       "      <td>tidak normal</td>\n",
       "    </tr>\n",
       "  </tbody>\n",
       "</table>\n",
       "</div>"
      ],
      "text/plain": [
       "                      0\n",
       "Price      tidak normal\n",
       "Distance   tidak normal"
      ]
     },
     "execution_count": 26,
     "metadata": {},
     "output_type": "execute_result"
    }
   ],
   "source": [
    "from scipy.stats import shapiro\n",
    "kolom=['Price','Distance']\n",
    "distribusi=[]\n",
    "for i in kolom:\n",
    "    stats, pval=shapiro(df1[i])\n",
    "    print(pval)\n",
    "    if pval>0.05:\n",
    "        distribusi.append('normal')\n",
    "    else:\n",
    "        distribusi.append(' tidak normal')\n",
    "        \n",
    "pd.DataFrame(distribusi, index=kolom)"
   ]
  },
  {
   "cell_type": "code",
   "execution_count": 27,
   "metadata": {},
   "outputs": [
    {
     "data": {
      "text/html": [
       "<div>\n",
       "<style scoped>\n",
       "    .dataframe tbody tr th:only-of-type {\n",
       "        vertical-align: middle;\n",
       "    }\n",
       "\n",
       "    .dataframe tbody tr th {\n",
       "        vertical-align: top;\n",
       "    }\n",
       "\n",
       "    .dataframe thead th {\n",
       "        text-align: right;\n",
       "    }\n",
       "</style>\n",
       "<table border=\"1\" class=\"dataframe\">\n",
       "  <thead>\n",
       "    <tr style=\"text-align: right;\">\n",
       "      <th></th>\n",
       "      <th>Distance</th>\n",
       "      <th>Price</th>\n",
       "    </tr>\n",
       "  </thead>\n",
       "  <tbody>\n",
       "    <tr>\n",
       "      <th>Distance</th>\n",
       "      <td>1.000000</td>\n",
       "      <td>0.041223</td>\n",
       "    </tr>\n",
       "    <tr>\n",
       "      <th>Price</th>\n",
       "      <td>0.041223</td>\n",
       "      <td>1.000000</td>\n",
       "    </tr>\n",
       "  </tbody>\n",
       "</table>\n",
       "</div>"
      ],
      "text/plain": [
       "          Distance     Price\n",
       "Distance  1.000000  0.041223\n",
       "Price     0.041223  1.000000"
      ]
     },
     "execution_count": 27,
     "metadata": {},
     "output_type": "execute_result"
    }
   ],
   "source": [
    "df1[['Distance','Price']].corr(method='spearman')"
   ]
  },
  {
   "cell_type": "code",
   "execution_count": 28,
   "metadata": {},
   "outputs": [
    {
     "data": {
      "text/plain": [
       "<AxesSubplot:>"
      ]
     },
     "execution_count": 28,
     "metadata": {},
     "output_type": "execute_result"
    },
    {
     "data": {
      "image/png": "[encoded data removed]",
      "text/plain": [
       "<Figure size 864x576 with 2 Axes>"
      ]
     },
     "metadata": {
      "needs_background": "light"
     },
     "output_type": "display_data"
    }
   ],
   "source": [
    "plt.subplots(figsize=(12,8))\n",
    "sns.heatmap(df1.corr(), annot=True , cmap = \"RdYlGn\")"
   ]
  },
  {
   "cell_type": "markdown",
   "metadata": {},
   "source": [
    "## result\n",
    "\n",
    "karena kolerasi lemah dan berbanding terbalik, maka harga tidak dipengaruhi oleh jarak"
   ]
  },
  {
   "cell_type": "code",
   "execution_count": 29,
   "metadata": {},
   "outputs": [
    {
     "data": {
      "text/html": [
       "<div>\n",
       "<style scoped>\n",
       "    .dataframe tbody tr th:only-of-type {\n",
       "        vertical-align: middle;\n",
       "    }\n",
       "\n",
       "    .dataframe tbody tr th {\n",
       "        vertical-align: top;\n",
       "    }\n",
       "\n",
       "    .dataframe thead th {\n",
       "        text-align: right;\n",
       "    }\n",
       "</style>\n",
       "<table border=\"1\" class=\"dataframe\">\n",
       "  <thead>\n",
       "    <tr style=\"text-align: right;\">\n",
       "      <th></th>\n",
       "      <th>Regionname</th>\n",
       "      <th>Suburb</th>\n",
       "      <th>Type</th>\n",
       "      <th>Distance</th>\n",
       "      <th>Price</th>\n",
       "    </tr>\n",
       "  </thead>\n",
       "  <tbody>\n",
       "    <tr>\n",
       "      <th>13</th>\n",
       "      <td>Northern Metropolitan</td>\n",
       "      <td>East Melbourne</td>\n",
       "      <td>House</td>\n",
       "      <td>1.5</td>\n",
       "      <td>3520000.0</td>\n",
       "    </tr>\n",
       "    <tr>\n",
       "      <th>31</th>\n",
       "      <td>Northern Metropolitan</td>\n",
       "      <td>Parkville</td>\n",
       "      <td>House</td>\n",
       "      <td>2.6</td>\n",
       "      <td>1851000.0</td>\n",
       "    </tr>\n",
       "    <tr>\n",
       "      <th>37</th>\n",
       "      <td>Northern Metropolitan</td>\n",
       "      <td>Princes Hill</td>\n",
       "      <td>House</td>\n",
       "      <td>3.5</td>\n",
       "      <td>1700000.0</td>\n",
       "    </tr>\n",
       "    <tr>\n",
       "      <th>91</th>\n",
       "      <td>Southern Metropolitan</td>\n",
       "      <td>South Yarra</td>\n",
       "      <td>House</td>\n",
       "      <td>3.3</td>\n",
       "      <td>1700000.0</td>\n",
       "    </tr>\n",
       "    <tr>\n",
       "      <th>25</th>\n",
       "      <td>Northern Metropolitan</td>\n",
       "      <td>Melbourne</td>\n",
       "      <td>House</td>\n",
       "      <td>2.8</td>\n",
       "      <td>1630000.0</td>\n",
       "    </tr>\n",
       "    <tr>\n",
       "      <th>49</th>\n",
       "      <td>Northern Metropolitan</td>\n",
       "      <td>West Melbourne</td>\n",
       "      <td>House</td>\n",
       "      <td>1.9</td>\n",
       "      <td>1605000.0</td>\n",
       "    </tr>\n",
       "    <tr>\n",
       "      <th>92</th>\n",
       "      <td>Southern Metropolitan</td>\n",
       "      <td>South Yarra</td>\n",
       "      <td>Townhouse</td>\n",
       "      <td>3.3</td>\n",
       "      <td>1587500.0</td>\n",
       "    </tr>\n",
       "    <tr>\n",
       "      <th>148</th>\n",
       "      <td>Western Metropolitan</td>\n",
       "      <td>Travancore</td>\n",
       "      <td>House</td>\n",
       "      <td>5.3</td>\n",
       "      <td>1562000.0</td>\n",
       "    </tr>\n",
       "    <tr>\n",
       "      <th>7</th>\n",
       "      <td>Northern Metropolitan</td>\n",
       "      <td>Carlton North</td>\n",
       "      <td>House</td>\n",
       "      <td>3.2</td>\n",
       "      <td>1540000.0</td>\n",
       "    </tr>\n",
       "    <tr>\n",
       "      <th>86</th>\n",
       "      <td>Southern Metropolitan</td>\n",
       "      <td>Port Melbourne</td>\n",
       "      <td>Townhouse</td>\n",
       "      <td>3.8</td>\n",
       "      <td>1388000.0</td>\n",
       "    </tr>\n",
       "    <tr>\n",
       "      <th>85</th>\n",
       "      <td>Southern Metropolitan</td>\n",
       "      <td>Port Melbourne</td>\n",
       "      <td>House</td>\n",
       "      <td>3.8</td>\n",
       "      <td>1377500.0</td>\n",
       "    </tr>\n",
       "    <tr>\n",
       "      <th>62</th>\n",
       "      <td>Southern Metropolitan</td>\n",
       "      <td>Docklands</td>\n",
       "      <td>Townhouse</td>\n",
       "      <td>1.9</td>\n",
       "      <td>1370000.0</td>\n",
       "    </tr>\n",
       "    <tr>\n",
       "      <th>14</th>\n",
       "      <td>Northern Metropolitan</td>\n",
       "      <td>East Melbourne</td>\n",
       "      <td>Townhouse</td>\n",
       "      <td>1.3</td>\n",
       "      <td>1350000.0</td>\n",
       "    </tr>\n",
       "    <tr>\n",
       "      <th>28</th>\n",
       "      <td>Northern Metropolitan</td>\n",
       "      <td>North Melbourne</td>\n",
       "      <td>House</td>\n",
       "      <td>2.3</td>\n",
       "      <td>1285000.0</td>\n",
       "    </tr>\n",
       "    <tr>\n",
       "      <th>4</th>\n",
       "      <td>Northern Metropolitan</td>\n",
       "      <td>Carlton</td>\n",
       "      <td>House</td>\n",
       "      <td>1.8</td>\n",
       "      <td>1263000.0</td>\n",
       "    </tr>\n",
       "    <tr>\n",
       "      <th>103</th>\n",
       "      <td>Western Metropolitan</td>\n",
       "      <td>Ascot Vale</td>\n",
       "      <td>House</td>\n",
       "      <td>5.9</td>\n",
       "      <td>1100000.0</td>\n",
       "    </tr>\n",
       "    <tr>\n",
       "      <th>50</th>\n",
       "      <td>Northern Metropolitan</td>\n",
       "      <td>West Melbourne</td>\n",
       "      <td>Townhouse</td>\n",
       "      <td>1.9</td>\n",
       "      <td>1087500.0</td>\n",
       "    </tr>\n",
       "  </tbody>\n",
       "</table>\n",
       "</div>"
      ],
      "text/plain": [
       "                Regionname           Suburb       Type  Distance      Price\n",
       "13   Northern Metropolitan   East Melbourne      House       1.5  3520000.0\n",
       "31   Northern Metropolitan        Parkville      House       2.6  1851000.0\n",
       "37   Northern Metropolitan     Princes Hill      House       3.5  1700000.0\n",
       "91   Southern Metropolitan      South Yarra      House       3.3  1700000.0\n",
       "25   Northern Metropolitan        Melbourne      House       2.8  1630000.0\n",
       "49   Northern Metropolitan   West Melbourne      House       1.9  1605000.0\n",
       "92   Southern Metropolitan      South Yarra  Townhouse       3.3  1587500.0\n",
       "148   Western Metropolitan       Travancore      House       5.3  1562000.0\n",
       "7    Northern Metropolitan    Carlton North      House       3.2  1540000.0\n",
       "86   Southern Metropolitan   Port Melbourne  Townhouse       3.8  1388000.0\n",
       "85   Southern Metropolitan   Port Melbourne      House       3.8  1377500.0\n",
       "62   Southern Metropolitan        Docklands  Townhouse       1.9  1370000.0\n",
       "14   Northern Metropolitan   East Melbourne  Townhouse       1.3  1350000.0\n",
       "28   Northern Metropolitan  North Melbourne      House       2.3  1285000.0\n",
       "4    Northern Metropolitan          Carlton      House       1.8  1263000.0\n",
       "103   Western Metropolitan       Ascot Vale      House       5.9  1100000.0\n",
       "50   Northern Metropolitan   West Melbourne  Townhouse       1.9  1087500.0"
      ]
     },
     "execution_count": 29,
     "metadata": {},
     "output_type": "execute_result"
    }
   ],
   "source": [
    "df1.groupby(['Regionname','Suburb','Type'], as_index=False).median().sort_values(by='Price',ascending=False).head(17)"
   ]
  },
  {
   "cell_type": "markdown",
   "metadata": {},
   "source": [
    "## berdasarkan data di atas\n",
    "\n",
    "* jika melihat dari urutan harga rumah yang termahal, jarak tidak terlalu mempengaruhi harga sedangkan lokasi dari region northern metropolitan mendominasi harga termahal tetapi harga termurah pun berada di region tersebut, sehingga tidak dapat di tarik kesimpulan karena masih ada pengaruh lain yang dapat mempengaruhi harga, bisa jadi type yang mempunyai pengaruh tinggi terhadap harga rumah"
   ]
  },
  {
   "cell_type": "code",
   "execution_count": 30,
   "metadata": {},
   "outputs": [
    {
     "data": {
      "text/plain": [
       "Suburb\n",
       "Princes Hill       1700000.0\n",
       "Carlton North      1463000.0\n",
       "Port Melbourne     1150000.0\n",
       "Parkville          1040000.0\n",
       "Ascot Vale         1007500.0\n",
       "West Melbourne      995000.0\n",
       "Travancore          978000.0\n",
       "Carlton             957000.0\n",
       "Flemington          917500.0\n",
       "East Melbourne      897500.0\n",
       "Maribyrnong         820000.0\n",
       "Kensington          812000.0\n",
       "South Yarra         802000.0\n",
       "Docklands           800000.0\n",
       "North Melbourne     780000.0\n",
       "Southbank           600000.0\n",
       "Melbourne           542500.0\n",
       "Name: Price, dtype: float64"
      ]
     },
     "execution_count": 30,
     "metadata": {},
     "output_type": "execute_result"
    }
   ],
   "source": [
    "price_bysuburb=df1.groupby('Suburb').median()['Price'].sort_values(ascending=False)\n",
    "price_bysuburb"
   ]
  },
  {
   "cell_type": "markdown",
   "metadata": {},
   "source": [
    "#### berdasarkan Suburb nya, harga tertinggi berada di daerah subrub **Prices Hill**"
   ]
  },
  {
   "cell_type": "code",
   "execution_count": 31,
   "metadata": {},
   "outputs": [
    {
     "data": {
      "image/png": "[encoded data removed]",
      "text/plain": [
       "<Figure size 1080x504 with 1 Axes>"
      ]
     },
     "metadata": {
      "needs_background": "light"
     },
     "output_type": "display_data"
    }
   ],
   "source": [
    "plt.figure(figsize=(15,7))\n",
    "sns.barplot(data=df1, x='Suburb', y='Price', estimator=np.median)\n",
    "plt.xticks(rotation=45)\n",
    "plt.show()"
   ]
  },
  {
   "cell_type": "code",
   "execution_count": 32,
   "metadata": {},
   "outputs": [
    {
     "data": {
      "text/plain": [
       "Regionname\n",
       "Western Metropolitan     945000.0\n",
       "Northern Metropolitan    857500.0\n",
       "Southern Metropolitan    857000.0\n",
       "Name: Price, dtype: float64"
      ]
     },
     "execution_count": 32,
     "metadata": {},
     "output_type": "execute_result"
    }
   ],
   "source": [
    "df1.groupby('Regionname').median()['Price'].sort_values(ascending=False)"
   ]
  },
  {
   "cell_type": "markdown",
   "metadata": {},
   "source": [
    "#### Berdasarkan region nya, harga yang paling tinggi ada di region western metropolitan, dan di region yang lain harga perbandingan nya hanya sedikit"
   ]
  },
  {
   "cell_type": "code",
   "execution_count": 33,
   "metadata": {},
   "outputs": [
    {
     "data": {
      "image/png": "[encoded data removed]",
      "text/plain": [
       "<Figure size 720x432 with 1 Axes>"
      ]
     },
     "metadata": {
      "needs_background": "light"
     },
     "output_type": "display_data"
    }
   ],
   "source": [
    "plt.figure(figsize=(10,6))\n",
    "sns.barplot(data=df1, x='Regionname', y='Price', estimator=np.median)\n",
    "plt.xticks(rotation=45)\n",
    "plt.show()"
   ]
  },
  {
   "cell_type": "code",
   "execution_count": 34,
   "metadata": {},
   "outputs": [
    {
     "data": {
      "text/plain": [
       "Type\n",
       "House        1230000.0\n",
       "Townhouse     855000.0\n",
       "Duplex        573500.0\n",
       "Name: Price, dtype: float64"
      ]
     },
     "execution_count": 34,
     "metadata": {},
     "output_type": "execute_result"
    }
   ],
   "source": [
    "df1.groupby('Type').median()['Price'].sort_values(ascending=False)"
   ]
  },
  {
   "cell_type": "markdown",
   "metadata": {},
   "source": [
    "#### Berdasarkan type nya, harga yang paling tinggi ada di type house, dan di type yang lain harga perbandingan nya sangat jauh dan dapat di asumsikan type sangat mempengaruhi harga"
   ]
  },
  {
   "cell_type": "code",
   "execution_count": 35,
   "metadata": {},
   "outputs": [
    {
     "data": {
      "image/png": "[encoded data removed]",
      "text/plain": [
       "<Figure size 720x432 with 1 Axes>"
      ]
     },
     "metadata": {
      "needs_background": "light"
     },
     "output_type": "display_data"
    }
   ],
   "source": [
    "plt.figure(figsize=(10,6))\n",
    "sns.barplot(data=df1, x='Type', y='Price', estimator=np.median)\n",
    "plt.xticks(rotation=45)\n",
    "plt.show()"
   ]
  },
  {
   "cell_type": "markdown",
   "metadata": {},
   "source": [
    "## **Hypothesis untuk price dan type**\n",
    "\n",
    "H0: tidak ada perbedaan nilai median harga rumah di type duplex, house, dan townhouse\n",
    "\n",
    "H1: setidaknya ada 1 pasang di antara type duplex, house, dan townhouse yang memiliki nilai median yang berbeda."
   ]
  },
  {
   "cell_type": "code",
   "execution_count": 36,
   "metadata": {},
   "outputs": [
    {
     "name": "stdout",
     "output_type": "stream",
     "text": [
      "1.0967384044342614e-122\n",
      "tolak h0\n"
     ]
    }
   ],
   "source": [
    "from scipy.stats import kruskal\n",
    "stats, pval=kruskal(*[df1[df1['Type']==i]['Price'] for i in ['Duplex','House','Townhouse']])\n",
    "print(pval)\n",
    "\n",
    "if pval<=0.05:\n",
    "    print('tolak h0')\n",
    "else:\n",
    "    print('terima h0')"
   ]
  },
  {
   "cell_type": "code",
   "execution_count": 37,
   "metadata": {},
   "outputs": [
    {
     "data": {
      "image/png": "[encoded data removed]",
      "text/plain": [
       "<Figure size 864x576 with 2 Axes>"
      ]
     },
     "metadata": {},
     "output_type": "display_data"
    }
   ],
   "source": [
    "sns.set_style('darkgrid')\n",
    "f, axes = plt.subplots(1,2, figsize = (12,8))\n",
    "\n",
    "# Plot [0]\n",
    "sns.boxplot(data = df1, x = 'Type', y = 'Price', ax = axes[0])\n",
    "axes[0].set_xlabel('Type')\n",
    "axes[0].set_ylabel('Price')\n",
    "axes[0].set_title('Type v Price')\n",
    "\n",
    "# Plot [1]\n",
    "sns.boxplot(x = 'Regionname', y = 'Price', data = df1, ax = axes[1])\n",
    "axes[1].set_xlabel('Regionname')\n",
    "axes[1].set_ylabel('Price')\n",
    "axes[1].set_title('Region Name v Price')\n",
    "\n",
    "plt.show()"
   ]
  },
  {
   "cell_type": "code",
   "execution_count": 38,
   "metadata": {},
   "outputs": [
    {
     "data": {
      "text/plain": [
       "Regionname\n",
       "Northern Metropolitan    2.8\n",
       "Southern Metropolitan    3.3\n",
       "Western Metropolitan     5.9\n",
       "Name: Distance, dtype: float64"
      ]
     },
     "execution_count": 38,
     "metadata": {},
     "output_type": "execute_result"
    }
   ],
   "source": [
    "df1.groupby('Regionname').median()['Distance']"
   ]
  },
  {
   "cell_type": "code",
   "execution_count": 39,
   "metadata": {},
   "outputs": [
    {
     "data": {
      "text/plain": [
       "<AxesSubplot:xlabel='Regionname', ylabel='Distance'>"
      ]
     },
     "execution_count": 39,
     "metadata": {},
     "output_type": "execute_result"
    },
    {
     "data": {
      "image/png": "[encoded data removed]",
      "text/plain": [
       "<Figure size 432x288 with 1 Axes>"
      ]
     },
     "metadata": {},
     "output_type": "display_data"
    }
   ],
   "source": [
    "sns.boxplot(data=df1, y='Distance', x='Regionname')"
   ]
  },
  {
   "cell_type": "code",
   "execution_count": 40,
   "metadata": {},
   "outputs": [
    {
     "data": {
      "text/plain": [
       "count    1129.000000\n",
       "mean        3.747033\n",
       "std         1.774492\n",
       "min         0.000000\n",
       "25%         2.700000\n",
       "50%         3.400000\n",
       "75%         4.300000\n",
       "max         8.700000\n",
       "Name: Distance, dtype: float64"
      ]
     },
     "execution_count": 40,
     "metadata": {},
     "output_type": "execute_result"
    }
   ],
   "source": [
    "df1['Distance'].describe()"
   ]
  },
  {
   "cell_type": "code",
   "execution_count": 41,
   "metadata": {},
   "outputs": [
    {
     "data": {
      "text/plain": [
       "Suburb\n",
       "Ascot Vale         5.9\n",
       "Carlton            1.8\n",
       "Carlton North      3.2\n",
       "Docklands          1.9\n",
       "East Melbourne     1.5\n",
       "Flemington         4.4\n",
       "Kensington         4.2\n",
       "Maribyrnong        8.7\n",
       "Melbourne          2.8\n",
       "North Melbourne    2.3\n",
       "Parkville          2.6\n",
       "Port Melbourne     3.8\n",
       "Princes Hill       3.5\n",
       "South Yarra        3.3\n",
       "Southbank          1.2\n",
       "Travancore         5.3\n",
       "West Melbourne     1.9\n",
       "Name: Distance, dtype: float64"
      ]
     },
     "execution_count": 41,
     "metadata": {},
     "output_type": "execute_result"
    }
   ],
   "source": [
    "df1.groupby('Suburb').median()['Distance']"
   ]
  },
  {
   "cell_type": "code",
   "execution_count": 42,
   "metadata": {},
   "outputs": [
    {
     "data": {
      "text/plain": [
       "0       Class3\n",
       "1       Class3\n",
       "2       Class3\n",
       "3       Class3\n",
       "4       Class3\n",
       "         ...  \n",
       "1124    Class1\n",
       "1125    Class3\n",
       "1126    Class1\n",
       "1127    Class2\n",
       "1128    Class2\n",
       "Name: Distance, Length: 1129, dtype: object"
      ]
     },
     "execution_count": 42,
     "metadata": {},
     "output_type": "execute_result"
    }
   ],
   "source": [
    "df1['Distance'].apply(lambda x:'Class1' if x<=2.8 else 'Class2' if x<=3.5 else 'Class3')"
   ]
  },
  {
   "cell_type": "code",
   "execution_count": 43,
   "metadata": {},
   "outputs": [
    {
     "name": "stderr",
     "output_type": "stream",
     "text": [
      "C:\\Users\\USER\\AppData\\Local\\Temp/ipykernel_11672/2060915726.py:1: SettingWithCopyWarning: \n",
      "A value is trying to be set on a copy of a slice from a DataFrame.\n",
      "Try using .loc[row_indexer,col_indexer] = value instead\n",
      "\n",
      "See the caveats in the documentation: https://pandas.pydata.org/pandas-docs/stable/user_guide/indexing.html#returning-a-view-versus-a-copy\n",
      "  df1['Category_Distance']=df1['Distance'].apply(lambda x:'Class1' if x<=2.8 else 'Class2' if x<=3.5 else 'Class3')\n"
     ]
    }
   ],
   "source": [
    "df1['Category_Distance']=df1['Distance'].apply(lambda x:'Class1' if x<=2.8 else 'Class2' if x<=3.5 else 'Class3')"
   ]
  },
  {
   "cell_type": "code",
   "execution_count": 44,
   "metadata": {},
   "outputs": [
    {
     "data": {
      "text/html": [
       "<div>\n",
       "<style scoped>\n",
       "    .dataframe tbody tr th:only-of-type {\n",
       "        vertical-align: middle;\n",
       "    }\n",
       "\n",
       "    .dataframe tbody tr th {\n",
       "        vertical-align: top;\n",
       "    }\n",
       "\n",
       "    .dataframe thead th {\n",
       "        text-align: right;\n",
       "    }\n",
       "</style>\n",
       "<table border=\"1\" class=\"dataframe\">\n",
       "  <thead>\n",
       "    <tr style=\"text-align: right;\">\n",
       "      <th></th>\n",
       "      <th>Suburb</th>\n",
       "      <th>Type</th>\n",
       "      <th>Date</th>\n",
       "      <th>Distance</th>\n",
       "      <th>Regionname</th>\n",
       "      <th>Price</th>\n",
       "      <th>Category_Distance</th>\n",
       "    </tr>\n",
       "  </thead>\n",
       "  <tbody>\n",
       "    <tr>\n",
       "      <th>0</th>\n",
       "      <td>Ascot Vale</td>\n",
       "      <td>Duplex</td>\n",
       "      <td>2016-03-09</td>\n",
       "      <td>5.9</td>\n",
       "      <td>Western Metropolitan</td>\n",
       "      <td>455000.0</td>\n",
       "      <td>Class3</td>\n",
       "    </tr>\n",
       "    <tr>\n",
       "      <th>1</th>\n",
       "      <td>Ascot Vale</td>\n",
       "      <td>House</td>\n",
       "      <td>2016-03-12</td>\n",
       "      <td>5.9</td>\n",
       "      <td>Western Metropolitan</td>\n",
       "      <td>940000.0</td>\n",
       "      <td>Class3</td>\n",
       "    </tr>\n",
       "    <tr>\n",
       "      <th>2</th>\n",
       "      <td>Ascot Vale</td>\n",
       "      <td>Duplex</td>\n",
       "      <td>2016-03-12</td>\n",
       "      <td>5.9</td>\n",
       "      <td>Western Metropolitan</td>\n",
       "      <td>467000.0</td>\n",
       "      <td>Class3</td>\n",
       "    </tr>\n",
       "    <tr>\n",
       "      <th>3</th>\n",
       "      <td>Ascot Vale</td>\n",
       "      <td>House</td>\n",
       "      <td>2017-04-03</td>\n",
       "      <td>5.9</td>\n",
       "      <td>Western Metropolitan</td>\n",
       "      <td>1380000.0</td>\n",
       "      <td>Class3</td>\n",
       "    </tr>\n",
       "    <tr>\n",
       "      <th>4</th>\n",
       "      <td>Ascot Vale</td>\n",
       "      <td>Duplex</td>\n",
       "      <td>2017-04-03</td>\n",
       "      <td>5.9</td>\n",
       "      <td>Western Metropolitan</td>\n",
       "      <td>490000.0</td>\n",
       "      <td>Class3</td>\n",
       "    </tr>\n",
       "    <tr>\n",
       "      <th>...</th>\n",
       "      <td>...</td>\n",
       "      <td>...</td>\n",
       "      <td>...</td>\n",
       "      <td>...</td>\n",
       "      <td>...</td>\n",
       "      <td>...</td>\n",
       "      <td>...</td>\n",
       "    </tr>\n",
       "    <tr>\n",
       "      <th>1124</th>\n",
       "      <td>Carlton</td>\n",
       "      <td>House</td>\n",
       "      <td>2017-08-26</td>\n",
       "      <td>1.6</td>\n",
       "      <td>Northern Metropolitan</td>\n",
       "      <td>1760000.0</td>\n",
       "      <td>Class1</td>\n",
       "    </tr>\n",
       "    <tr>\n",
       "      <th>1125</th>\n",
       "      <td>Maribyrnong</td>\n",
       "      <td>House</td>\n",
       "      <td>2017-08-26</td>\n",
       "      <td>4.3</td>\n",
       "      <td>Western Metropolitan</td>\n",
       "      <td>3400000.0</td>\n",
       "      <td>Class3</td>\n",
       "    </tr>\n",
       "    <tr>\n",
       "      <th>1126</th>\n",
       "      <td>North Melbourne</td>\n",
       "      <td>House</td>\n",
       "      <td>2017-08-26</td>\n",
       "      <td>1.8</td>\n",
       "      <td>Northern Metropolitan</td>\n",
       "      <td>1080000.0</td>\n",
       "      <td>Class1</td>\n",
       "    </tr>\n",
       "    <tr>\n",
       "      <th>1127</th>\n",
       "      <td>Port Melbourne</td>\n",
       "      <td>Townhouse</td>\n",
       "      <td>2017-08-26</td>\n",
       "      <td>3.5</td>\n",
       "      <td>Southern Metropolitan</td>\n",
       "      <td>2455000.0</td>\n",
       "      <td>Class2</td>\n",
       "    </tr>\n",
       "    <tr>\n",
       "      <th>1128</th>\n",
       "      <td>Port Melbourne</td>\n",
       "      <td>House</td>\n",
       "      <td>2017-08-26</td>\n",
       "      <td>3.5</td>\n",
       "      <td>Southern Metropolitan</td>\n",
       "      <td>1515000.0</td>\n",
       "      <td>Class2</td>\n",
       "    </tr>\n",
       "  </tbody>\n",
       "</table>\n",
       "<p>1129 rows × 7 columns</p>\n",
       "</div>"
      ],
      "text/plain": [
       "               Suburb       Type       Date  Distance             Regionname  \\\n",
       "0          Ascot Vale     Duplex 2016-03-09       5.9   Western Metropolitan   \n",
       "1          Ascot Vale      House 2016-03-12       5.9   Western Metropolitan   \n",
       "2          Ascot Vale     Duplex 2016-03-12       5.9   Western Metropolitan   \n",
       "3          Ascot Vale      House 2017-04-03       5.9   Western Metropolitan   \n",
       "4          Ascot Vale     Duplex 2017-04-03       5.9   Western Metropolitan   \n",
       "...               ...        ...        ...       ...                    ...   \n",
       "1124          Carlton      House 2017-08-26       1.6  Northern Metropolitan   \n",
       "1125      Maribyrnong      House 2017-08-26       4.3   Western Metropolitan   \n",
       "1126  North Melbourne      House 2017-08-26       1.8  Northern Metropolitan   \n",
       "1127   Port Melbourne  Townhouse 2017-08-26       3.5  Southern Metropolitan   \n",
       "1128   Port Melbourne      House 2017-08-26       3.5  Southern Metropolitan   \n",
       "\n",
       "          Price Category_Distance  \n",
       "0      455000.0            Class3  \n",
       "1      940000.0            Class3  \n",
       "2      467000.0            Class3  \n",
       "3     1380000.0            Class3  \n",
       "4      490000.0            Class3  \n",
       "...         ...               ...  \n",
       "1124  1760000.0            Class1  \n",
       "1125  3400000.0            Class3  \n",
       "1126  1080000.0            Class1  \n",
       "1127  2455000.0            Class2  \n",
       "1128  1515000.0            Class2  \n",
       "\n",
       "[1129 rows x 7 columns]"
      ]
     },
     "execution_count": 44,
     "metadata": {},
     "output_type": "execute_result"
    }
   ],
   "source": [
    "df1"
   ]
  },
  {
   "cell_type": "code",
   "execution_count": 45,
   "metadata": {},
   "outputs": [
    {
     "name": "stderr",
     "output_type": "stream",
     "text": [
      "C:\\Users\\USER\\AppData\\Local\\Programs\\Python\\Python310\\lib\\site-packages\\seaborn\\_decorators.py:36: FutureWarning: Pass the following variable as a keyword arg: x. From version 0.12, the only valid positional argument will be `data`, and passing other arguments without an explicit keyword will result in an error or misinterpretation.\n",
      "  warnings.warn(\n"
     ]
    },
    {
     "data": {
      "text/plain": [
       "Text(0.5, 1.0, 'Jumlah type rumah berdasarkan Category Distance nya')"
      ]
     },
     "execution_count": 45,
     "metadata": {},
     "output_type": "execute_result"
    },
    {
     "data": {
      "image/png": "[encoded data removed]",
      "text/plain": [
       "<Figure size 720x432 with 1 Axes>"
      ]
     },
     "metadata": {},
     "output_type": "display_data"
    }
   ],
   "source": [
    "plt.figure(figsize=(10,6))\n",
    "g=sns.countplot(df1['Category_Distance'],hue='Type',data=df1,palette='Set2')\n",
    "g.set_xticklabels(g.get_xticklabels(), rotation=90)\n",
    "g.set_title('Jumlah type rumah berdasarkan Category Distance nya',fontsize=15)"
   ]
  },
  {
   "cell_type": "markdown",
   "metadata": {},
   "source": [
    "kategori jarak dibagi menjadi tiga kelas\n",
    "* class1: jarak menuju CBD di bawah 2.8\n",
    "* class2: jarak menuju CBD di bawah 3.5\n",
    "* class3: jarak menuju CBD di atas  3.5\n",
    "\n",
    "berdasarkan data di atas type rumah yang lokasi nya di kategori class1 yang diasumsikan memiliki jarak tempuh paling sedikit dengan CBD yaitu Duplex. jika anda mencari type rumah house mungkin type tersebut keanyakan berada di class3 yang di asumsikan memiliki jarak tempuh paling banyak terhadap CBD."
   ]
  },
  {
   "cell_type": "code",
   "execution_count": 46,
   "metadata": {},
   "outputs": [
    {
     "data": {
      "text/plain": [
       "Category_Distance\n",
       "Class1    750000.0\n",
       "Class2    920000.0\n",
       "Class3    940000.0\n",
       "Name: Price, dtype: float64"
      ]
     },
     "execution_count": 46,
     "metadata": {},
     "output_type": "execute_result"
    }
   ],
   "source": [
    "df1.groupby('Category_Distance').median()['Price']"
   ]
  },
  {
   "cell_type": "code",
   "execution_count": 47,
   "metadata": {},
   "outputs": [],
   "source": [
    "import folium"
   ]
  },
  {
   "cell_type": "code",
   "execution_count": 48,
   "metadata": {},
   "outputs": [
    {
     "data": {
      "text/html": [
       "<div style=\"width:100%;\"><div style=\"position:relative;width:100%;height:0;padding-bottom:60%;\"><span style=\"color:#565656\">Make this Notebook Trusted to load map: File -> Trust Notebook</span><iframe src=\"about:blank\" style=\"position:absolute;width:100%;height:100%;left:0;top:0;border:none !important;\" data-html=%3C%21DOCTYPE%20html%3E%0A%3Chead%3E%20%20%20%20%0A%20%20%20%20%3Cmeta%20http-equiv%3D%22content-type%22%20content%3D%22text/html%3B%20charset%3DUTF-8%22%20/%3E%0A%20%20%20%20%0A%20%20%20%20%20%20%20%20%3Cscript%3E%0A%20%20%20%20%20%20%20%20%20%20%20%20L_NO_TOUCH%20%3D%20false%3B%0A%20%20%20%20%20%20%20%20%20%20%20%20L_DISABLE_3D%20%3D%20false%3B%0A%20%20%20%20%20%20%20%20%3C/script%3E%0A%20%20%20%20%0A%20%20%20%20%3Cstyle%3Ehtml%2C%20body%20%7Bwidth%3A%20100%25%3Bheight%3A%20100%25%3Bmargin%3A%200%3Bpadding%3A%200%3B%7D%3C/style%3E%0A%20%20%20%20%3Cstyle%3E%23map%20%7Bposition%3Aabsolute%3Btop%3A0%3Bbottom%3A0%3Bright%3A0%3Bleft%3A0%3B%7D%3C/style%3E%0A%20%20%20%20%3Cscript%20src%3D%22https%3A//cdn.jsdelivr.net/npm/leaflet%401.6.0/dist/leaflet.js%22%3E%3C/script%3E%0A%20%20%20%20%3Cscript%20src%3D%22https%3A//code.jquery.com/jquery-1.12.4.min.js%22%3E%3C/script%3E%0A%20%20%20%20%3Cscript%20src%3D%22https%3A//maxcdn.bootstrapcdn.com/bootstrap/3.2.0/js/bootstrap.min.js%22%3E%3C/script%3E%0A%20%20%20%20%3Cscript%20src%3D%22https%3A//cdnjs.cloudflare.com/ajax/libs/Leaflet.awesome-markers/2.0.2/leaflet.awesome-markers.js%22%3E%3C/script%3E%0A%20%20%20%20%3Clink%20rel%3D%22stylesheet%22%20href%3D%22https%3A//cdn.jsdelivr.net/npm/leaflet%401.6.0/dist/leaflet.css%22/%3E%0A%20%20%20%20%3Clink%20rel%3D%22stylesheet%22%20href%3D%22https%3A//maxcdn.bootstrapcdn.com/bootstrap/3.2.0/css/bootstrap.min.css%22/%3E%0A%20%20%20%20%3Clink%20rel%3D%22stylesheet%22%20href%3D%22https%3A//maxcdn.bootstrapcdn.com/bootstrap/3.2.0/css/bootstrap-theme.min.css%22/%3E%0A%20%20%20%20%3Clink%20rel%3D%22stylesheet%22%20href%3D%22https%3A//maxcdn.bootstrapcdn.com/font-awesome/4.6.3/css/font-awesome.min.css%22/%3E%0A%20%20%20%20%3Clink%20rel%3D%22stylesheet%22%20href%3D%22https%3A//cdnjs.cloudflare.com/ajax/libs/Leaflet.awesome-markers/2.0.2/leaflet.awesome-markers.css%22/%3E%0A%20%20%20%20%3Clink%20rel%3D%22stylesheet%22%20href%3D%22https%3A//cdn.jsdelivr.net/gh/python-visualization/folium/folium/templates/leaflet.awesome.rotate.min.css%22/%3E%0A%20%20%20%20%0A%20%20%20%20%20%20%20%20%20%20%20%20%3Cmeta%20name%3D%22viewport%22%20content%3D%22width%3Ddevice-width%2C%0A%20%20%20%20%20%20%20%20%20%20%20%20%20%20%20%20initial-scale%3D1.0%2C%20maximum-scale%3D1.0%2C%20user-scalable%3Dno%22%20/%3E%0A%20%20%20%20%20%20%20%20%20%20%20%20%3Cstyle%3E%0A%20%20%20%20%20%20%20%20%20%20%20%20%20%20%20%20%23map_6396169673964bb79ad499bb35c1fadf%20%7B%0A%20%20%20%20%20%20%20%20%20%20%20%20%20%20%20%20%20%20%20%20position%3A%20relative%3B%0A%20%20%20%20%20%20%20%20%20%20%20%20%20%20%20%20%20%20%20%20width%3A%20100.0%25%3B%0A%20%20%20%20%20%20%20%20%20%20%20%20%20%20%20%20%20%20%20%20height%3A%20100.0%25%3B%0A%20%20%20%20%20%20%20%20%20%20%20%20%20%20%20%20%20%20%20%20left%3A%200.0%25%3B%0A%20%20%20%20%20%20%20%20%20%20%20%20%20%20%20%20%20%20%20%20top%3A%200.0%25%3B%0A%20%20%20%20%20%20%20%20%20%20%20%20%20%20%20%20%7D%0A%20%20%20%20%20%20%20%20%20%20%20%20%3C/style%3E%0A%20%20%20%20%20%20%20%20%0A%3C/head%3E%0A%3Cbody%3E%20%20%20%20%0A%20%20%20%20%0A%20%20%20%20%20%20%20%20%20%20%20%20%3Cdiv%20class%3D%22folium-map%22%20id%3D%22map_6396169673964bb79ad499bb35c1fadf%22%20%3E%3C/div%3E%0A%20%20%20%20%20%20%20%20%0A%3C/body%3E%0A%3Cscript%3E%20%20%20%20%0A%20%20%20%20%0A%20%20%20%20%20%20%20%20%20%20%20%20var%20map_6396169673964bb79ad499bb35c1fadf%20%3D%20L.map%28%0A%20%20%20%20%20%20%20%20%20%20%20%20%20%20%20%20%22map_6396169673964bb79ad499bb35c1fadf%22%2C%0A%20%20%20%20%20%20%20%20%20%20%20%20%20%20%20%20%7B%0A%20%20%20%20%20%20%20%20%20%20%20%20%20%20%20%20%20%20%20%20center%3A%20%5B0%2C%200%5D%2C%0A%20%20%20%20%20%20%20%20%20%20%20%20%20%20%20%20%20%20%20%20crs%3A%20L.CRS.EPSG3857%2C%0A%20%20%20%20%20%20%20%20%20%20%20%20%20%20%20%20%20%20%20%20zoom%3A%201%2C%0A%20%20%20%20%20%20%20%20%20%20%20%20%20%20%20%20%20%20%20%20zoomControl%3A%20true%2C%0A%20%20%20%20%20%20%20%20%20%20%20%20%20%20%20%20%20%20%20%20preferCanvas%3A%20false%2C%0A%20%20%20%20%20%20%20%20%20%20%20%20%20%20%20%20%7D%0A%20%20%20%20%20%20%20%20%20%20%20%20%29%3B%0A%0A%20%20%20%20%20%20%20%20%20%20%20%20%0A%0A%20%20%20%20%20%20%20%20%0A%20%20%20%20%0A%20%20%20%20%20%20%20%20%20%20%20%20var%20tile_layer_278cef8aa95b41d1abf0d7e50555b059%20%3D%20L.tileLayer%28%0A%20%20%20%20%20%20%20%20%20%20%20%20%20%20%20%20%22https%3A//%7Bs%7D.tile.openstreetmap.org/%7Bz%7D/%7Bx%7D/%7By%7D.png%22%2C%0A%20%20%20%20%20%20%20%20%20%20%20%20%20%20%20%20%7B%22attribution%22%3A%20%22Data%20by%20%5Cu0026copy%3B%20%5Cu003ca%20href%3D%5C%22http%3A//openstreetmap.org%5C%22%5Cu003eOpenStreetMap%5Cu003c/a%5Cu003e%2C%20under%20%5Cu003ca%20href%3D%5C%22http%3A//www.openstreetmap.org/copyright%5C%22%5Cu003eODbL%5Cu003c/a%5Cu003e.%22%2C%20%22detectRetina%22%3A%20false%2C%20%22maxNativeZoom%22%3A%2018%2C%20%22maxZoom%22%3A%2018%2C%20%22minZoom%22%3A%200%2C%20%22noWrap%22%3A%20false%2C%20%22opacity%22%3A%201%2C%20%22subdomains%22%3A%20%22abc%22%2C%20%22tms%22%3A%20false%7D%0A%20%20%20%20%20%20%20%20%20%20%20%20%29.addTo%28map_6396169673964bb79ad499bb35c1fadf%29%3B%0A%20%20%20%20%20%20%20%20%0A%3C/script%3E onload=\"this.contentDocument.open();this.contentDocument.write(    decodeURIComponent(this.getAttribute('data-html')));this.contentDocument.close();\" allowfullscreen webkitallowfullscreen mozallowfullscreen></iframe></div></div>"
      ],
      "text/plain": [
       "<folium.folium.Map at 0x296c7bd7430>"
      ]
     },
     "execution_count": 48,
     "metadata": {},
     "output_type": "execute_result"
    }
   ],
   "source": [
    "worldmap=folium.Map()\n",
    "worldmap"
   ]
  },
  {
   "cell_type": "code",
   "execution_count": 49,
   "metadata": {},
   "outputs": [
    {
     "data": {
      "text/html": [
       "<div style=\"width:100%;\"><div style=\"position:relative;width:100%;height:0;padding-bottom:60%;\"><span style=\"color:#565656\">Make this Notebook Trusted to load map: File -> Trust Notebook</span><iframe src=\"about:blank\" style=\"position:absolute;width:100%;height:100%;left:0;top:0;border:none !important;\" data-html=%3C%21DOCTYPE%20html%3E%0A%3Chead%3E%20%20%20%20%0A%20%20%20%20%3Cmeta%20http-equiv%3D%22content-type%22%20content%3D%22text/html%3B%20charset%3DUTF-8%22%20/%3E%0A%20%20%20%20%0A%20%20%20%20%20%20%20%20%3Cscript%3E%0A%20%20%20%20%20%20%20%20%20%20%20%20L_NO_TOUCH%20%3D%20false%3B%0A%20%20%20%20%20%20%20%20%20%20%20%20L_DISABLE_3D%20%3D%20false%3B%0A%20%20%20%20%20%20%20%20%3C/script%3E%0A%20%20%20%20%0A%20%20%20%20%3Cstyle%3Ehtml%2C%20body%20%7Bwidth%3A%20100%25%3Bheight%3A%20100%25%3Bmargin%3A%200%3Bpadding%3A%200%3B%7D%3C/style%3E%0A%20%20%20%20%3Cstyle%3E%23map%20%7Bposition%3Aabsolute%3Btop%3A0%3Bbottom%3A0%3Bright%3A0%3Bleft%3A0%3B%7D%3C/style%3E%0A%20%20%20%20%3Cscript%20src%3D%22https%3A//cdn.jsdelivr.net/npm/leaflet%401.6.0/dist/leaflet.js%22%3E%3C/script%3E%0A%20%20%20%20%3Cscript%20src%3D%22https%3A//code.jquery.com/jquery-1.12.4.min.js%22%3E%3C/script%3E%0A%20%20%20%20%3Cscript%20src%3D%22https%3A//maxcdn.bootstrapcdn.com/bootstrap/3.2.0/js/bootstrap.min.js%22%3E%3C/script%3E%0A%20%20%20%20%3Cscript%20src%3D%22https%3A//cdnjs.cloudflare.com/ajax/libs/Leaflet.awesome-markers/2.0.2/leaflet.awesome-markers.js%22%3E%3C/script%3E%0A%20%20%20%20%3Clink%20rel%3D%22stylesheet%22%20href%3D%22https%3A//cdn.jsdelivr.net/npm/leaflet%401.6.0/dist/leaflet.css%22/%3E%0A%20%20%20%20%3Clink%20rel%3D%22stylesheet%22%20href%3D%22https%3A//maxcdn.bootstrapcdn.com/bootstrap/3.2.0/css/bootstrap.min.css%22/%3E%0A%20%20%20%20%3Clink%20rel%3D%22stylesheet%22%20href%3D%22https%3A//maxcdn.bootstrapcdn.com/bootstrap/3.2.0/css/bootstrap-theme.min.css%22/%3E%0A%20%20%20%20%3Clink%20rel%3D%22stylesheet%22%20href%3D%22https%3A//maxcdn.bootstrapcdn.com/font-awesome/4.6.3/css/font-awesome.min.css%22/%3E%0A%20%20%20%20%3Clink%20rel%3D%22stylesheet%22%20href%3D%22https%3A//cdnjs.cloudflare.com/ajax/libs/Leaflet.awesome-markers/2.0.2/leaflet.awesome-markers.css%22/%3E%0A%20%20%20%20%3Clink%20rel%3D%22stylesheet%22%20href%3D%22https%3A//cdn.jsdelivr.net/gh/python-visualization/folium/folium/templates/leaflet.awesome.rotate.min.css%22/%3E%0A%20%20%20%20%0A%20%20%20%20%20%20%20%20%20%20%20%20%3Cmeta%20name%3D%22viewport%22%20content%3D%22width%3Ddevice-width%2C%0A%20%20%20%20%20%20%20%20%20%20%20%20%20%20%20%20initial-scale%3D1.0%2C%20maximum-scale%3D1.0%2C%20user-scalable%3Dno%22%20/%3E%0A%20%20%20%20%20%20%20%20%20%20%20%20%3Cstyle%3E%0A%20%20%20%20%20%20%20%20%20%20%20%20%20%20%20%20%23map_e436e87859204ee689efb2eda7676bd5%20%7B%0A%20%20%20%20%20%20%20%20%20%20%20%20%20%20%20%20%20%20%20%20position%3A%20relative%3B%0A%20%20%20%20%20%20%20%20%20%20%20%20%20%20%20%20%20%20%20%20width%3A%20100.0%25%3B%0A%20%20%20%20%20%20%20%20%20%20%20%20%20%20%20%20%20%20%20%20height%3A%20100.0%25%3B%0A%20%20%20%20%20%20%20%20%20%20%20%20%20%20%20%20%20%20%20%20left%3A%200.0%25%3B%0A%20%20%20%20%20%20%20%20%20%20%20%20%20%20%20%20%20%20%20%20top%3A%200.0%25%3B%0A%20%20%20%20%20%20%20%20%20%20%20%20%20%20%20%20%7D%0A%20%20%20%20%20%20%20%20%20%20%20%20%3C/style%3E%0A%20%20%20%20%20%20%20%20%0A%3C/head%3E%0A%3Cbody%3E%20%20%20%20%0A%20%20%20%20%0A%20%20%20%20%20%20%20%20%20%20%20%20%3Cdiv%20class%3D%22folium-map%22%20id%3D%22map_e436e87859204ee689efb2eda7676bd5%22%20%3E%3C/div%3E%0A%20%20%20%20%20%20%20%20%0A%3C/body%3E%0A%3Cscript%3E%20%20%20%20%0A%20%20%20%20%0A%20%20%20%20%20%20%20%20%20%20%20%20var%20map_e436e87859204ee689efb2eda7676bd5%20%3D%20L.map%28%0A%20%20%20%20%20%20%20%20%20%20%20%20%20%20%20%20%22map_e436e87859204ee689efb2eda7676bd5%22%2C%0A%20%20%20%20%20%20%20%20%20%20%20%20%20%20%20%20%7B%0A%20%20%20%20%20%20%20%20%20%20%20%20%20%20%20%20%20%20%20%20center%3A%20%5B-37.8136%2C%20144.9631%5D%2C%0A%20%20%20%20%20%20%20%20%20%20%20%20%20%20%20%20%20%20%20%20crs%3A%20L.CRS.EPSG3857%2C%0A%20%20%20%20%20%20%20%20%20%20%20%20%20%20%20%20%20%20%20%20zoom%3A%2010%2C%0A%20%20%20%20%20%20%20%20%20%20%20%20%20%20%20%20%20%20%20%20zoomControl%3A%20true%2C%0A%20%20%20%20%20%20%20%20%20%20%20%20%20%20%20%20%20%20%20%20preferCanvas%3A%20false%2C%0A%20%20%20%20%20%20%20%20%20%20%20%20%20%20%20%20%7D%0A%20%20%20%20%20%20%20%20%20%20%20%20%29%3B%0A%0A%20%20%20%20%20%20%20%20%20%20%20%20%0A%0A%20%20%20%20%20%20%20%20%0A%20%20%20%20%0A%20%20%20%20%20%20%20%20%20%20%20%20var%20tile_layer_4bc0c58a18544dca859e01a4ed4d84de%20%3D%20L.tileLayer%28%0A%20%20%20%20%20%20%20%20%20%20%20%20%20%20%20%20%22https%3A//%7Bs%7D.tile.openstreetmap.org/%7Bz%7D/%7Bx%7D/%7By%7D.png%22%2C%0A%20%20%20%20%20%20%20%20%20%20%20%20%20%20%20%20%7B%22attribution%22%3A%20%22Data%20by%20%5Cu0026copy%3B%20%5Cu003ca%20href%3D%5C%22http%3A//openstreetmap.org%5C%22%5Cu003eOpenStreetMap%5Cu003c/a%5Cu003e%2C%20under%20%5Cu003ca%20href%3D%5C%22http%3A//www.openstreetmap.org/copyright%5C%22%5Cu003eODbL%5Cu003c/a%5Cu003e.%22%2C%20%22detectRetina%22%3A%20false%2C%20%22maxNativeZoom%22%3A%2018%2C%20%22maxZoom%22%3A%2018%2C%20%22minZoom%22%3A%200%2C%20%22noWrap%22%3A%20false%2C%20%22opacity%22%3A%201%2C%20%22subdomains%22%3A%20%22abc%22%2C%20%22tms%22%3A%20false%7D%0A%20%20%20%20%20%20%20%20%20%20%20%20%29.addTo%28map_e436e87859204ee689efb2eda7676bd5%29%3B%0A%20%20%20%20%20%20%20%20%0A%3C/script%3E onload=\"this.contentDocument.open();this.contentDocument.write(    decodeURIComponent(this.getAttribute('data-html')));this.contentDocument.close();\" allowfullscreen webkitallowfullscreen mozallowfullscreen></iframe></div></div>"
      ],
      "text/plain": [
       "<folium.folium.Map at 0x296c7bd7700>"
      ]
     },
     "execution_count": 49,
     "metadata": {},
     "output_type": "execute_result"
    }
   ],
   "source": [
    "Melbourne_map=folium.Map(location=[-37.8136, 144.9631], zoom_start=10)\n",
    "Melbourne_map"
   ]
  },
  {
   "cell_type": "code",
   "execution_count": 50,
   "metadata": {},
   "outputs": [
    {
     "data": {
      "text/plain": [
       "Suburb\n",
       "Ascot Vale         5.9\n",
       "Carlton            1.8\n",
       "Carlton North      3.2\n",
       "Docklands          1.9\n",
       "East Melbourne     1.5\n",
       "Flemington         4.4\n",
       "Kensington         4.2\n",
       "Maribyrnong        8.7\n",
       "Melbourne          2.8\n",
       "North Melbourne    2.3\n",
       "Parkville          2.6\n",
       "Port Melbourne     3.8\n",
       "Princes Hill       3.5\n",
       "South Yarra        3.3\n",
       "Southbank          1.2\n",
       "Travancore         5.3\n",
       "West Melbourne     1.9\n",
       "Name: Distance, dtype: float64"
      ]
     },
     "execution_count": 50,
     "metadata": {},
     "output_type": "execute_result"
    }
   ],
   "source": [
    "df1.groupby('Suburb').median()['Distance']"
   ]
  },
  {
   "cell_type": "code",
   "execution_count": 51,
   "metadata": {},
   "outputs": [
    {
     "data": {
      "text/html": [
       "<div style=\"width:100%;\"><div style=\"position:relative;width:100%;height:0;padding-bottom:60%;\"><span style=\"color:#565656\">Make this Notebook Trusted to load map: File -> Trust Notebook</span><iframe src=\"about:blank\" style=\"position:absolute;width:100%;height:100%;left:0;top:0;border:none !important;\" data-html=%3C%21DOCTYPE%20html%3E%0A%3Chead%3E%20%20%20%20%0A%20%20%20%20%3Cmeta%20http-equiv%3D%22content-type%22%20content%3D%22text/html%3B%20charset%3DUTF-8%22%20/%3E%0A%20%20%20%20%0A%20%20%20%20%20%20%20%20%3Cscript%3E%0A%20%20%20%20%20%20%20%20%20%20%20%20L_NO_TOUCH%20%3D%20false%3B%0A%20%20%20%20%20%20%20%20%20%20%20%20L_DISABLE_3D%20%3D%20false%3B%0A%20%20%20%20%20%20%20%20%3C/script%3E%0A%20%20%20%20%0A%20%20%20%20%3Cstyle%3Ehtml%2C%20body%20%7Bwidth%3A%20100%25%3Bheight%3A%20100%25%3Bmargin%3A%200%3Bpadding%3A%200%3B%7D%3C/style%3E%0A%20%20%20%20%3Cstyle%3E%23map%20%7Bposition%3Aabsolute%3Btop%3A0%3Bbottom%3A0%3Bright%3A0%3Bleft%3A0%3B%7D%3C/style%3E%0A%20%20%20%20%3Cscript%20src%3D%22https%3A//cdn.jsdelivr.net/npm/leaflet%401.6.0/dist/leaflet.js%22%3E%3C/script%3E%0A%20%20%20%20%3Cscript%20src%3D%22https%3A//code.jquery.com/jquery-1.12.4.min.js%22%3E%3C/script%3E%0A%20%20%20%20%3Cscript%20src%3D%22https%3A//maxcdn.bootstrapcdn.com/bootstrap/3.2.0/js/bootstrap.min.js%22%3E%3C/script%3E%0A%20%20%20%20%3Cscript%20src%3D%22https%3A//cdnjs.cloudflare.com/ajax/libs/Leaflet.awesome-markers/2.0.2/leaflet.awesome-markers.js%22%3E%3C/script%3E%0A%20%20%20%20%3Clink%20rel%3D%22stylesheet%22%20href%3D%22https%3A//cdn.jsdelivr.net/npm/leaflet%401.6.0/dist/leaflet.css%22/%3E%0A%20%20%20%20%3Clink%20rel%3D%22stylesheet%22%20href%3D%22https%3A//maxcdn.bootstrapcdn.com/bootstrap/3.2.0/css/bootstrap.min.css%22/%3E%0A%20%20%20%20%3Clink%20rel%3D%22stylesheet%22%20href%3D%22https%3A//maxcdn.bootstrapcdn.com/bootstrap/3.2.0/css/bootstrap-theme.min.css%22/%3E%0A%20%20%20%20%3Clink%20rel%3D%22stylesheet%22%20href%3D%22https%3A//maxcdn.bootstrapcdn.com/font-awesome/4.6.3/css/font-awesome.min.css%22/%3E%0A%20%20%20%20%3Clink%20rel%3D%22stylesheet%22%20href%3D%22https%3A//cdnjs.cloudflare.com/ajax/libs/Leaflet.awesome-markers/2.0.2/leaflet.awesome-markers.css%22/%3E%0A%20%20%20%20%3Clink%20rel%3D%22stylesheet%22%20href%3D%22https%3A//cdn.jsdelivr.net/gh/python-visualization/folium/folium/templates/leaflet.awesome.rotate.min.css%22/%3E%0A%20%20%20%20%0A%20%20%20%20%20%20%20%20%20%20%20%20%3Cmeta%20name%3D%22viewport%22%20content%3D%22width%3Ddevice-width%2C%0A%20%20%20%20%20%20%20%20%20%20%20%20%20%20%20%20initial-scale%3D1.0%2C%20maximum-scale%3D1.0%2C%20user-scalable%3Dno%22%20/%3E%0A%20%20%20%20%20%20%20%20%20%20%20%20%3Cstyle%3E%0A%20%20%20%20%20%20%20%20%20%20%20%20%20%20%20%20%23map_45f98d8d55ed4042a2447c524a64257c%20%7B%0A%20%20%20%20%20%20%20%20%20%20%20%20%20%20%20%20%20%20%20%20position%3A%20relative%3B%0A%20%20%20%20%20%20%20%20%20%20%20%20%20%20%20%20%20%20%20%20width%3A%20100.0%25%3B%0A%20%20%20%20%20%20%20%20%20%20%20%20%20%20%20%20%20%20%20%20height%3A%20100.0%25%3B%0A%20%20%20%20%20%20%20%20%20%20%20%20%20%20%20%20%20%20%20%20left%3A%200.0%25%3B%0A%20%20%20%20%20%20%20%20%20%20%20%20%20%20%20%20%20%20%20%20top%3A%200.0%25%3B%0A%20%20%20%20%20%20%20%20%20%20%20%20%20%20%20%20%7D%0A%20%20%20%20%20%20%20%20%20%20%20%20%3C/style%3E%0A%20%20%20%20%20%20%20%20%0A%3C/head%3E%0A%3Cbody%3E%20%20%20%20%0A%20%20%20%20%0A%20%20%20%20%20%20%20%20%20%20%20%20%3Cdiv%20class%3D%22folium-map%22%20id%3D%22map_45f98d8d55ed4042a2447c524a64257c%22%20%3E%3C/div%3E%0A%20%20%20%20%20%20%20%20%0A%3C/body%3E%0A%3Cscript%3E%20%20%20%20%0A%20%20%20%20%0A%20%20%20%20%20%20%20%20%20%20%20%20var%20map_45f98d8d55ed4042a2447c524a64257c%20%3D%20L.map%28%0A%20%20%20%20%20%20%20%20%20%20%20%20%20%20%20%20%22map_45f98d8d55ed4042a2447c524a64257c%22%2C%0A%20%20%20%20%20%20%20%20%20%20%20%20%20%20%20%20%7B%0A%20%20%20%20%20%20%20%20%20%20%20%20%20%20%20%20%20%20%20%20center%3A%20%5B-37.8136%2C%20144.9631%5D%2C%0A%20%20%20%20%20%20%20%20%20%20%20%20%20%20%20%20%20%20%20%20crs%3A%20L.CRS.EPSG3857%2C%0A%20%20%20%20%20%20%20%20%20%20%20%20%20%20%20%20%20%20%20%20zoom%3A%2010%2C%0A%20%20%20%20%20%20%20%20%20%20%20%20%20%20%20%20%20%20%20%20zoomControl%3A%20true%2C%0A%20%20%20%20%20%20%20%20%20%20%20%20%20%20%20%20%20%20%20%20preferCanvas%3A%20false%2C%0A%20%20%20%20%20%20%20%20%20%20%20%20%20%20%20%20%7D%0A%20%20%20%20%20%20%20%20%20%20%20%20%29%3B%0A%0A%20%20%20%20%20%20%20%20%20%20%20%20%0A%0A%20%20%20%20%20%20%20%20%0A%20%20%20%20%0A%20%20%20%20%20%20%20%20%20%20%20%20var%20tile_layer_d2a4cb0ad2284221be617d40f6b60b62%20%3D%20L.tileLayer%28%0A%20%20%20%20%20%20%20%20%20%20%20%20%20%20%20%20%22https%3A//%7Bs%7D.tile.openstreetmap.org/%7Bz%7D/%7Bx%7D/%7By%7D.png%22%2C%0A%20%20%20%20%20%20%20%20%20%20%20%20%20%20%20%20%7B%22attribution%22%3A%20%22Data%20by%20%5Cu0026copy%3B%20%5Cu003ca%20href%3D%5C%22http%3A//openstreetmap.org%5C%22%5Cu003eOpenStreetMap%5Cu003c/a%5Cu003e%2C%20under%20%5Cu003ca%20href%3D%5C%22http%3A//www.openstreetmap.org/copyright%5C%22%5Cu003eODbL%5Cu003c/a%5Cu003e.%22%2C%20%22detectRetina%22%3A%20false%2C%20%22maxNativeZoom%22%3A%2018%2C%20%22maxZoom%22%3A%2018%2C%20%22minZoom%22%3A%200%2C%20%22noWrap%22%3A%20false%2C%20%22opacity%22%3A%201%2C%20%22subdomains%22%3A%20%22abc%22%2C%20%22tms%22%3A%20false%7D%0A%20%20%20%20%20%20%20%20%20%20%20%20%29.addTo%28map_45f98d8d55ed4042a2447c524a64257c%29%3B%0A%20%20%20%20%20%20%20%20%0A%20%20%20%20%0A%20%20%20%20%20%20%20%20%20%20%20%20var%20marker_0f8167817eec4a1e8db6f6a561c1584b%20%3D%20L.marker%28%0A%20%20%20%20%20%20%20%20%20%20%20%20%20%20%20%20%5B-37.8124%2C%20144.9623%5D%2C%0A%20%20%20%20%20%20%20%20%20%20%20%20%20%20%20%20%7B%7D%0A%20%20%20%20%20%20%20%20%20%20%20%20%29.addTo%28map_45f98d8d55ed4042a2447c524a64257c%29%3B%0A%20%20%20%20%20%20%20%20%0A%20%20%20%20%0A%20%20%20%20%20%20%20%20%20%20%20%20var%20icon_c3968bb189464abc8aadd3926b122659%20%3D%20L.AwesomeMarkers.icon%28%0A%20%20%20%20%20%20%20%20%20%20%20%20%20%20%20%20%7B%22extraClasses%22%3A%20%22fa-rotate-0%22%2C%20%22icon%22%3A%20%22info-sign%22%2C%20%22iconColor%22%3A%20%22white%22%2C%20%22markerColor%22%3A%20%22purple%22%2C%20%22prefix%22%3A%20%22glyphicon%22%7D%0A%20%20%20%20%20%20%20%20%20%20%20%20%29%3B%0A%20%20%20%20%20%20%20%20%20%20%20%20marker_0f8167817eec4a1e8db6f6a561c1584b.setIcon%28icon_c3968bb189464abc8aadd3926b122659%29%3B%0A%20%20%20%20%20%20%20%20%0A%20%20%20%20%0A%20%20%20%20%20%20%20%20var%20popup_48a6973be8834ee6b19207ab38bcafd3%20%3D%20L.popup%28%7B%22maxWidth%22%3A%20%22100%25%22%7D%29%3B%0A%0A%20%20%20%20%20%20%20%20%0A%20%20%20%20%20%20%20%20%20%20%20%20var%20html_f08471e4b8994833a4fbe2c0e2258c30%20%3D%20%24%28%60%3Cdiv%20id%3D%22html_f08471e4b8994833a4fbe2c0e2258c30%22%20style%3D%22width%3A%20100.0%25%3B%20height%3A%20100.0%25%3B%22%3E%3Ci%3ECBD%3Ci%3E%3C/div%3E%60%29%5B0%5D%3B%0A%20%20%20%20%20%20%20%20%20%20%20%20popup_48a6973be8834ee6b19207ab38bcafd3.setContent%28html_f08471e4b8994833a4fbe2c0e2258c30%29%3B%0A%20%20%20%20%20%20%20%20%0A%0A%20%20%20%20%20%20%20%20marker_0f8167817eec4a1e8db6f6a561c1584b.bindPopup%28popup_48a6973be8834ee6b19207ab38bcafd3%29%0A%20%20%20%20%20%20%20%20%3B%0A%0A%20%20%20%20%20%20%20%20%0A%20%20%20%20%0A%20%20%20%20%0A%20%20%20%20%20%20%20%20%20%20%20%20marker_0f8167817eec4a1e8db6f6a561c1584b.bindTooltip%28%0A%20%20%20%20%20%20%20%20%20%20%20%20%20%20%20%20%60%3Cdiv%3E%0A%20%20%20%20%20%20%20%20%20%20%20%20%20%20%20%20%20%20%20%20%20here%20is%20CBD%0A%20%20%20%20%20%20%20%20%20%20%20%20%20%20%20%20%20%3C/div%3E%60%2C%0A%20%20%20%20%20%20%20%20%20%20%20%20%20%20%20%20%7B%22sticky%22%3A%20true%7D%0A%20%20%20%20%20%20%20%20%20%20%20%20%29%3B%0A%20%20%20%20%20%20%20%20%0A%20%20%20%20%0A%20%20%20%20%20%20%20%20%20%20%20%20var%20marker_9dba55658a3442f485fa05d0376611fb%20%3D%20L.marker%28%0A%20%20%20%20%20%20%20%20%20%20%20%20%20%20%20%20%5B-37.7767%2C%20144.9671%5D%2C%0A%20%20%20%20%20%20%20%20%20%20%20%20%20%20%20%20%7B%7D%0A%20%20%20%20%20%20%20%20%20%20%20%20%29.addTo%28map_45f98d8d55ed4042a2447c524a64257c%29%3B%0A%20%20%20%20%20%20%20%20%0A%20%20%20%20%0A%20%20%20%20%20%20%20%20var%20popup_f2de51b83b4645ee896717f898d4b1bb%20%3D%20L.popup%28%7B%22maxWidth%22%3A%20%22100%25%22%7D%29%3B%0A%0A%20%20%20%20%20%20%20%20%0A%20%20%20%20%20%20%20%20%20%20%20%20var%20html_d9a83c200e1c4cdc8e0c6fb6e13aabb5%20%3D%20%24%28%60%3Cdiv%20id%3D%22html_d9a83c200e1c4cdc8e0c6fb6e13aabb5%22%20style%3D%22width%3A%20100.0%25%3B%20height%3A%20100.0%25%3B%22%3EAscot%20Vale%3C/div%3E%60%29%5B0%5D%3B%0A%20%20%20%20%20%20%20%20%20%20%20%20popup_f2de51b83b4645ee896717f898d4b1bb.setContent%28html_d9a83c200e1c4cdc8e0c6fb6e13aabb5%29%3B%0A%20%20%20%20%20%20%20%20%0A%0A%20%20%20%20%20%20%20%20marker_9dba55658a3442f485fa05d0376611fb.bindPopup%28popup_f2de51b83b4645ee896717f898d4b1bb%29%0A%20%20%20%20%20%20%20%20%3B%0A%0A%20%20%20%20%20%20%20%20%0A%20%20%20%20%0A%20%20%20%20%0A%20%20%20%20%20%20%20%20%20%20%20%20marker_9dba55658a3442f485fa05d0376611fb.bindTooltip%28%0A%20%20%20%20%20%20%20%20%20%20%20%20%20%20%20%20%60%3Cdiv%3E%0A%20%20%20%20%20%20%20%20%20%20%20%20%20%20%20%20%20%20%20%20%20here%20is%20Ascot%20Vale%0A%20%20%20%20%20%20%20%20%20%20%20%20%20%20%20%20%20%3C/div%3E%60%2C%0A%20%20%20%20%20%20%20%20%20%20%20%20%20%20%20%20%7B%22sticky%22%3A%20true%7D%0A%20%20%20%20%20%20%20%20%20%20%20%20%29%3B%0A%20%20%20%20%20%20%20%20%0A%20%20%20%20%0A%20%20%20%20%20%20%20%20%20%20%20%20var%20marker_f5b5f29626ea438dbac3d2b5a13cfe74%20%3D%20L.marker%28%0A%20%20%20%20%20%20%20%20%20%20%20%20%20%20%20%20%5B-37.8001%2C%20144.9671%5D%2C%0A%20%20%20%20%20%20%20%20%20%20%20%20%20%20%20%20%7B%7D%0A%20%20%20%20%20%20%20%20%20%20%20%20%29.addTo%28map_45f98d8d55ed4042a2447c524a64257c%29%3B%0A%20%20%20%20%20%20%20%20%0A%20%20%20%20%0A%20%20%20%20%20%20%20%20var%20popup_3c6827d4044945ffb1d4bc19171095f2%20%3D%20L.popup%28%7B%22maxWidth%22%3A%20%22100%25%22%7D%29%3B%0A%0A%20%20%20%20%20%20%20%20%0A%20%20%20%20%20%20%20%20%20%20%20%20var%20html_17e5d5dc30f549229149ed3a93006b64%20%3D%20%24%28%60%3Cdiv%20id%3D%22html_17e5d5dc30f549229149ed3a93006b64%22%20style%3D%22width%3A%20100.0%25%3B%20height%3A%20100.0%25%3B%22%3ECarlton%3C/div%3E%60%29%5B0%5D%3B%0A%20%20%20%20%20%20%20%20%20%20%20%20popup_3c6827d4044945ffb1d4bc19171095f2.setContent%28html_17e5d5dc30f549229149ed3a93006b64%29%3B%0A%20%20%20%20%20%20%20%20%0A%0A%20%20%20%20%20%20%20%20marker_f5b5f29626ea438dbac3d2b5a13cfe74.bindPopup%28popup_3c6827d4044945ffb1d4bc19171095f2%29%0A%20%20%20%20%20%20%20%20%3B%0A%0A%20%20%20%20%20%20%20%20%0A%20%20%20%20%0A%20%20%20%20%0A%20%20%20%20%20%20%20%20%20%20%20%20marker_f5b5f29626ea438dbac3d2b5a13cfe74.bindTooltip%28%0A%20%20%20%20%20%20%20%20%20%20%20%20%20%20%20%20%60%3Cdiv%3E%0A%20%20%20%20%20%20%20%20%20%20%20%20%20%20%20%20%20%20%20%20%20mari%20ke%20Carlton%0A%20%20%20%20%20%20%20%20%20%20%20%20%20%20%20%20%20%3C/div%3E%60%2C%0A%20%20%20%20%20%20%20%20%20%20%20%20%20%20%20%20%7B%22sticky%22%3A%20true%7D%0A%20%20%20%20%20%20%20%20%20%20%20%20%29%3B%0A%20%20%20%20%20%20%20%20%0A%20%20%20%20%0A%20%20%20%20%20%20%20%20%20%20%20%20var%20marker_fa684b08268047c9a13f973fb01ecd55%20%3D%20L.marker%28%0A%20%20%20%20%20%20%20%20%20%20%20%20%20%20%20%20%5B-37.7888%2C%20144.972%5D%2C%0A%20%20%20%20%20%20%20%20%20%20%20%20%20%20%20%20%7B%7D%0A%20%20%20%20%20%20%20%20%20%20%20%20%29.addTo%28map_45f98d8d55ed4042a2447c524a64257c%29%3B%0A%20%20%20%20%20%20%20%20%0A%20%20%20%20%0A%20%20%20%20%20%20%20%20var%20popup_adcb4453e1874c6e9d715caad6abb940%20%3D%20L.popup%28%7B%22maxWidth%22%3A%20%22100%25%22%7D%29%3B%0A%0A%20%20%20%20%20%20%20%20%0A%20%20%20%20%20%20%20%20%20%20%20%20var%20html_a1dab1168d6b42678bf2980fd014a960%20%3D%20%24%28%60%3Cdiv%20id%3D%22html_a1dab1168d6b42678bf2980fd014a960%22%20style%3D%22width%3A%20100.0%25%3B%20height%3A%20100.0%25%3B%22%3ECarlton%20North%3C/div%3E%60%29%5B0%5D%3B%0A%20%20%20%20%20%20%20%20%20%20%20%20popup_adcb4453e1874c6e9d715caad6abb940.setContent%28html_a1dab1168d6b42678bf2980fd014a960%29%3B%0A%20%20%20%20%20%20%20%20%0A%0A%20%20%20%20%20%20%20%20marker_fa684b08268047c9a13f973fb01ecd55.bindPopup%28popup_adcb4453e1874c6e9d715caad6abb940%29%0A%20%20%20%20%20%20%20%20%3B%0A%0A%20%20%20%20%20%20%20%20%0A%20%20%20%20%0A%20%20%20%20%0A%20%20%20%20%20%20%20%20%20%20%20%20marker_fa684b08268047c9a13f973fb01ecd55.bindTooltip%28%0A%20%20%20%20%20%20%20%20%20%20%20%20%20%20%20%20%60%3Cdiv%3E%0A%20%20%20%20%20%20%20%20%20%20%20%20%20%20%20%20%20%20%20%20%20mari%20ke%20Carlton%20North%0A%20%20%20%20%20%20%20%20%20%20%20%20%20%20%20%20%20%3C/div%3E%60%2C%0A%20%20%20%20%20%20%20%20%20%20%20%20%20%20%20%20%7B%22sticky%22%3A%20true%7D%0A%20%20%20%20%20%20%20%20%20%20%20%20%29%3B%0A%20%20%20%20%20%20%20%20%0A%20%20%20%20%0A%20%20%20%20%20%20%20%20%20%20%20%20var%20marker_2cf76069b5644d2ebace5672ae309e8a%20%3D%20L.marker%28%0A%20%20%20%20%20%20%20%20%20%20%20%20%20%20%20%20%5B-37.819%2C%20144.9466%5D%2C%0A%20%20%20%20%20%20%20%20%20%20%20%20%20%20%20%20%7B%7D%0A%20%20%20%20%20%20%20%20%20%20%20%20%29.addTo%28map_45f98d8d55ed4042a2447c524a64257c%29%3B%0A%20%20%20%20%20%20%20%20%0A%20%20%20%20%0A%20%20%20%20%20%20%20%20var%20popup_545db95aed94467f98bdc68248cebe64%20%3D%20L.popup%28%7B%22maxWidth%22%3A%20%22100%25%22%7D%29%3B%0A%0A%20%20%20%20%20%20%20%20%0A%20%20%20%20%20%20%20%20%20%20%20%20var%20html_5caa6cb81ebe45cebfc9c6c272db90b6%20%3D%20%24%28%60%3Cdiv%20id%3D%22html_5caa6cb81ebe45cebfc9c6c272db90b6%22%20style%3D%22width%3A%20100.0%25%3B%20height%3A%20100.0%25%3B%22%3EDocklands%3C/div%3E%60%29%5B0%5D%3B%0A%20%20%20%20%20%20%20%20%20%20%20%20popup_545db95aed94467f98bdc68248cebe64.setContent%28html_5caa6cb81ebe45cebfc9c6c272db90b6%29%3B%0A%20%20%20%20%20%20%20%20%0A%0A%20%20%20%20%20%20%20%20marker_2cf76069b5644d2ebace5672ae309e8a.bindPopup%28popup_545db95aed94467f98bdc68248cebe64%29%0A%20%20%20%20%20%20%20%20%3B%0A%0A%20%20%20%20%20%20%20%20%0A%20%20%20%20%0A%20%20%20%20%0A%20%20%20%20%20%20%20%20%20%20%20%20marker_2cf76069b5644d2ebace5672ae309e8a.bindTooltip%28%0A%20%20%20%20%20%20%20%20%20%20%20%20%20%20%20%20%60%3Cdiv%3E%0A%20%20%20%20%20%20%20%20%20%20%20%20%20%20%20%20%20%20%20%20%20mari%20ke%20Docklands%0A%20%20%20%20%20%20%20%20%20%20%20%20%20%20%20%20%20%3C/div%3E%60%2C%0A%20%20%20%20%20%20%20%20%20%20%20%20%20%20%20%20%7B%22sticky%22%3A%20true%7D%0A%20%20%20%20%20%20%20%20%20%20%20%20%29%3B%0A%20%20%20%20%20%20%20%20%0A%20%20%20%20%0A%20%20%20%20%20%20%20%20%20%20%20%20var%20marker_89863ed2a59c467cb8c9b28b991392c8%20%3D%20L.marker%28%0A%20%20%20%20%20%20%20%20%20%20%20%20%20%20%20%20%5B-37.813%2C%20144.985%5D%2C%0A%20%20%20%20%20%20%20%20%20%20%20%20%20%20%20%20%7B%7D%0A%20%20%20%20%20%20%20%20%20%20%20%20%29.addTo%28map_45f98d8d55ed4042a2447c524a64257c%29%3B%0A%20%20%20%20%20%20%20%20%0A%20%20%20%20%0A%20%20%20%20%20%20%20%20var%20popup_829cd42ec51e4ef1ba0a573c07a611cd%20%3D%20L.popup%28%7B%22maxWidth%22%3A%20%22100%25%22%7D%29%3B%0A%0A%20%20%20%20%20%20%20%20%0A%20%20%20%20%20%20%20%20%20%20%20%20var%20html_03e989fa480644599fa03954ddff6b73%20%3D%20%24%28%60%3Cdiv%20id%3D%22html_03e989fa480644599fa03954ddff6b73%22%20style%3D%22width%3A%20100.0%25%3B%20height%3A%20100.0%25%3B%22%3EEast%20Melbourne%3C/div%3E%60%29%5B0%5D%3B%0A%20%20%20%20%20%20%20%20%20%20%20%20popup_829cd42ec51e4ef1ba0a573c07a611cd.setContent%28html_03e989fa480644599fa03954ddff6b73%29%3B%0A%20%20%20%20%20%20%20%20%0A%0A%20%20%20%20%20%20%20%20marker_89863ed2a59c467cb8c9b28b991392c8.bindPopup%28popup_829cd42ec51e4ef1ba0a573c07a611cd%29%0A%20%20%20%20%20%20%20%20%3B%0A%0A%20%20%20%20%20%20%20%20%0A%20%20%20%20%0A%20%20%20%20%0A%20%20%20%20%20%20%20%20%20%20%20%20marker_89863ed2a59c467cb8c9b28b991392c8.bindTooltip%28%0A%20%20%20%20%20%20%20%20%20%20%20%20%20%20%20%20%60%3Cdiv%3E%0A%20%20%20%20%20%20%20%20%20%20%20%20%20%20%20%20%20%20%20%20%20mari%20ke%20East%20Melbourne%0A%20%20%20%20%20%20%20%20%20%20%20%20%20%20%20%20%20%3C/div%3E%60%2C%0A%20%20%20%20%20%20%20%20%20%20%20%20%20%20%20%20%7B%22sticky%22%3A%20true%7D%0A%20%20%20%20%20%20%20%20%20%20%20%20%29%3B%0A%20%20%20%20%20%20%20%20%0A%20%20%20%20%0A%20%20%20%20%20%20%20%20%20%20%20%20var%20marker_10e5ab5868514c0dab84cbac626aac51%20%3D%20L.marker%28%0A%20%20%20%20%20%20%20%20%20%20%20%20%20%20%20%20%5B-37.7833%2C%20144.9277%5D%2C%0A%20%20%20%20%20%20%20%20%20%20%20%20%20%20%20%20%7B%7D%0A%20%20%20%20%20%20%20%20%20%20%20%20%29.addTo%28map_45f98d8d55ed4042a2447c524a64257c%29%3B%0A%20%20%20%20%20%20%20%20%0A%20%20%20%20%0A%20%20%20%20%20%20%20%20var%20popup_adf3def097084938bee273db0d5ec394%20%3D%20L.popup%28%7B%22maxWidth%22%3A%20%22100%25%22%7D%29%3B%0A%0A%20%20%20%20%20%20%20%20%0A%20%20%20%20%20%20%20%20%20%20%20%20var%20html_afb59759d9a84971afc03143a64138c8%20%3D%20%24%28%60%3Cdiv%20id%3D%22html_afb59759d9a84971afc03143a64138c8%22%20style%3D%22width%3A%20100.0%25%3B%20height%3A%20100.0%25%3B%22%3EFlemington%3C/div%3E%60%29%5B0%5D%3B%0A%20%20%20%20%20%20%20%20%20%20%20%20popup_adf3def097084938bee273db0d5ec394.setContent%28html_afb59759d9a84971afc03143a64138c8%29%3B%0A%20%20%20%20%20%20%20%20%0A%0A%20%20%20%20%20%20%20%20marker_10e5ab5868514c0dab84cbac626aac51.bindPopup%28popup_adf3def097084938bee273db0d5ec394%29%0A%20%20%20%20%20%20%20%20%3B%0A%0A%20%20%20%20%20%20%20%20%0A%20%20%20%20%0A%20%20%20%20%0A%20%20%20%20%20%20%20%20%20%20%20%20marker_10e5ab5868514c0dab84cbac626aac51.bindTooltip%28%0A%20%20%20%20%20%20%20%20%20%20%20%20%20%20%20%20%60%3Cdiv%3E%0A%20%20%20%20%20%20%20%20%20%20%20%20%20%20%20%20%20%20%20%20%20mari%20ke%20Flemington%0A%20%20%20%20%20%20%20%20%20%20%20%20%20%20%20%20%20%3C/div%3E%60%2C%0A%20%20%20%20%20%20%20%20%20%20%20%20%20%20%20%20%7B%22sticky%22%3A%20true%7D%0A%20%20%20%20%20%20%20%20%20%20%20%20%29%3B%0A%20%20%20%20%20%20%20%20%0A%20%20%20%20%0A%20%20%20%20%20%20%20%20%20%20%20%20var%20marker_28efece5916c4aacad4c0247e86cfe3b%20%3D%20L.marker%28%0A%20%20%20%20%20%20%20%20%20%20%20%20%20%20%20%20%5B-37.7696%2C%20144.8821%5D%2C%0A%20%20%20%20%20%20%20%20%20%20%20%20%20%20%20%20%7B%7D%0A%20%20%20%20%20%20%20%20%20%20%20%20%29.addTo%28map_45f98d8d55ed4042a2447c524a64257c%29%3B%0A%20%20%20%20%20%20%20%20%0A%20%20%20%20%0A%20%20%20%20%20%20%20%20var%20popup_31c74b8c088b4372b55b85e8fa8dd301%20%3D%20L.popup%28%7B%22maxWidth%22%3A%20%22100%25%22%7D%29%3B%0A%0A%20%20%20%20%20%20%20%20%0A%20%20%20%20%20%20%20%20%20%20%20%20var%20html_ae46eb9c298c4ea5983e95f8b30568f4%20%3D%20%24%28%60%3Cdiv%20id%3D%22html_ae46eb9c298c4ea5983e95f8b30568f4%22%20style%3D%22width%3A%20100.0%25%3B%20height%3A%20100.0%25%3B%22%3EMaribyrnong%3C/div%3E%60%29%5B0%5D%3B%0A%20%20%20%20%20%20%20%20%20%20%20%20popup_31c74b8c088b4372b55b85e8fa8dd301.setContent%28html_ae46eb9c298c4ea5983e95f8b30568f4%29%3B%0A%20%20%20%20%20%20%20%20%0A%0A%20%20%20%20%20%20%20%20marker_28efece5916c4aacad4c0247e86cfe3b.bindPopup%28popup_31c74b8c088b4372b55b85e8fa8dd301%29%0A%20%20%20%20%20%20%20%20%3B%0A%0A%20%20%20%20%20%20%20%20%0A%20%20%20%20%0A%20%20%20%20%0A%20%20%20%20%20%20%20%20%20%20%20%20marker_28efece5916c4aacad4c0247e86cfe3b.bindTooltip%28%0A%20%20%20%20%20%20%20%20%20%20%20%20%20%20%20%20%60%3Cdiv%3E%0A%20%20%20%20%20%20%20%20%20%20%20%20%20%20%20%20%20%20%20%20%20mari%20ke%20Maribyrnong%0A%20%20%20%20%20%20%20%20%20%20%20%20%20%20%20%20%20%3C/div%3E%60%2C%0A%20%20%20%20%20%20%20%20%20%20%20%20%20%20%20%20%7B%22sticky%22%3A%20true%7D%0A%20%20%20%20%20%20%20%20%20%20%20%20%29%3B%0A%20%20%20%20%20%20%20%20%0A%20%20%20%20%0A%20%20%20%20%20%20%20%20%20%20%20%20var%20marker_1b0b20a04fa246bb90268a206813a3a0%20%3D%20L.marker%28%0A%20%20%20%20%20%20%20%20%20%20%20%20%20%20%20%20%5B-37.7941%2C%20144.9277%5D%2C%0A%20%20%20%20%20%20%20%20%20%20%20%20%20%20%20%20%7B%7D%0A%20%20%20%20%20%20%20%20%20%20%20%20%29.addTo%28map_45f98d8d55ed4042a2447c524a64257c%29%3B%0A%20%20%20%20%20%20%20%20%0A%20%20%20%20%0A%20%20%20%20%20%20%20%20var%20popup_7c8302a0edec48eb9e8f154eea24c62f%20%3D%20L.popup%28%7B%22maxWidth%22%3A%20%22100%25%22%7D%29%3B%0A%0A%20%20%20%20%20%20%20%20%0A%20%20%20%20%20%20%20%20%20%20%20%20var%20html_20c198b9e227443bb75596cc79270ce7%20%3D%20%24%28%60%3Cdiv%20id%3D%22html_20c198b9e227443bb75596cc79270ce7%22%20style%3D%22width%3A%20100.0%25%3B%20height%3A%20100.0%25%3B%22%3EKensington%3C/div%3E%60%29%5B0%5D%3B%0A%20%20%20%20%20%20%20%20%20%20%20%20popup_7c8302a0edec48eb9e8f154eea24c62f.setContent%28html_20c198b9e227443bb75596cc79270ce7%29%3B%0A%20%20%20%20%20%20%20%20%0A%0A%20%20%20%20%20%20%20%20marker_1b0b20a04fa246bb90268a206813a3a0.bindPopup%28popup_7c8302a0edec48eb9e8f154eea24c62f%29%0A%20%20%20%20%20%20%20%20%3B%0A%0A%20%20%20%20%20%20%20%20%0A%20%20%20%20%0A%20%20%20%20%0A%20%20%20%20%20%20%20%20%20%20%20%20marker_1b0b20a04fa246bb90268a206813a3a0.bindTooltip%28%0A%20%20%20%20%20%20%20%20%20%20%20%20%20%20%20%20%60%3Cdiv%3E%0A%20%20%20%20%20%20%20%20%20%20%20%20%20%20%20%20%20%20%20%20%20mari%20ke%20Kensington%0A%20%20%20%20%20%20%20%20%20%20%20%20%20%20%20%20%20%3C/div%3E%60%2C%0A%20%20%20%20%20%20%20%20%20%20%20%20%20%20%20%20%7B%22sticky%22%3A%20true%7D%0A%20%20%20%20%20%20%20%20%20%20%20%20%29%3B%0A%20%20%20%20%20%20%20%20%0A%20%20%20%20%0A%20%20%20%20%20%20%20%20%20%20%20%20var%20marker_a5d9fec0e22140928ae72b1211708eec%20%3D%20L.marker%28%0A%20%20%20%20%20%20%20%20%20%20%20%20%20%20%20%20%5B-37.8136%2C%20144.9631%5D%2C%0A%20%20%20%20%20%20%20%20%20%20%20%20%20%20%20%20%7B%7D%0A%20%20%20%20%20%20%20%20%20%20%20%20%29.addTo%28map_45f98d8d55ed4042a2447c524a64257c%29%3B%0A%20%20%20%20%20%20%20%20%0A%20%20%20%20%0A%20%20%20%20%20%20%20%20var%20popup_586e70b2f45e4b6f880077816a4f4016%20%3D%20L.popup%28%7B%22maxWidth%22%3A%20%22100%25%22%7D%29%3B%0A%0A%20%20%20%20%20%20%20%20%0A%20%20%20%20%20%20%20%20%20%20%20%20var%20html_a7f9f03f5df5492fafe1a06438567b03%20%3D%20%24%28%60%3Cdiv%20id%3D%22html_a7f9f03f5df5492fafe1a06438567b03%22%20style%3D%22width%3A%20100.0%25%3B%20height%3A%20100.0%25%3B%22%3EMelbourne%3C/div%3E%60%29%5B0%5D%3B%0A%20%20%20%20%20%20%20%20%20%20%20%20popup_586e70b2f45e4b6f880077816a4f4016.setContent%28html_a7f9f03f5df5492fafe1a06438567b03%29%3B%0A%20%20%20%20%20%20%20%20%0A%0A%20%20%20%20%20%20%20%20marker_a5d9fec0e22140928ae72b1211708eec.bindPopup%28popup_586e70b2f45e4b6f880077816a4f4016%29%0A%20%20%20%20%20%20%20%20%3B%0A%0A%20%20%20%20%20%20%20%20%0A%20%20%20%20%0A%20%20%20%20%0A%20%20%20%20%20%20%20%20%20%20%20%20marker_a5d9fec0e22140928ae72b1211708eec.bindTooltip%28%0A%20%20%20%20%20%20%20%20%20%20%20%20%20%20%20%20%60%3Cdiv%3E%0A%20%20%20%20%20%20%20%20%20%20%20%20%20%20%20%20%20%20%20%20%20mari%20ke%20Melbourne%0A%20%20%20%20%20%20%20%20%20%20%20%20%20%20%20%20%20%3C/div%3E%60%2C%0A%20%20%20%20%20%20%20%20%20%20%20%20%20%20%20%20%7B%22sticky%22%3A%20true%7D%0A%20%20%20%20%20%20%20%20%20%20%20%20%29%3B%0A%20%20%20%20%20%20%20%20%0A%20%20%20%20%0A%20%20%20%20%20%20%20%20%20%20%20%20var%20marker_a423c41589894bdb9b9e6de762037935%20%3D%20L.marker%28%0A%20%20%20%20%20%20%20%20%20%20%20%20%20%20%20%20%5B-37.7992%2C%20144.9467%5D%2C%0A%20%20%20%20%20%20%20%20%20%20%20%20%20%20%20%20%7B%7D%0A%20%20%20%20%20%20%20%20%20%20%20%20%29.addTo%28map_45f98d8d55ed4042a2447c524a64257c%29%3B%0A%20%20%20%20%20%20%20%20%0A%20%20%20%20%0A%20%20%20%20%20%20%20%20var%20popup_299360d72dff48de941472605bb29a23%20%3D%20L.popup%28%7B%22maxWidth%22%3A%20%22100%25%22%7D%29%3B%0A%0A%20%20%20%20%20%20%20%20%0A%20%20%20%20%20%20%20%20%20%20%20%20var%20html_519dfefdbf1b49c88d9c1b89640575f6%20%3D%20%24%28%60%3Cdiv%20id%3D%22html_519dfefdbf1b49c88d9c1b89640575f6%22%20style%3D%22width%3A%20100.0%25%3B%20height%3A%20100.0%25%3B%22%3ENorth%20Melbourne%3C/div%3E%60%29%5B0%5D%3B%0A%20%20%20%20%20%20%20%20%20%20%20%20popup_299360d72dff48de941472605bb29a23.setContent%28html_519dfefdbf1b49c88d9c1b89640575f6%29%3B%0A%20%20%20%20%20%20%20%20%0A%0A%20%20%20%20%20%20%20%20marker_a423c41589894bdb9b9e6de762037935.bindPopup%28popup_299360d72dff48de941472605bb29a23%29%0A%20%20%20%20%20%20%20%20%3B%0A%0A%20%20%20%20%20%20%20%20%0A%20%20%20%20%0A%20%20%20%20%0A%20%20%20%20%20%20%20%20%20%20%20%20marker_a423c41589894bdb9b9e6de762037935.bindTooltip%28%0A%20%20%20%20%20%20%20%20%20%20%20%20%20%20%20%20%60%3Cdiv%3E%0A%20%20%20%20%20%20%20%20%20%20%20%20%20%20%20%20%20%20%20%20%20mari%20ke%20North%20Melbourne%0A%20%20%20%20%20%20%20%20%20%20%20%20%20%20%20%20%20%3C/div%3E%60%2C%0A%20%20%20%20%20%20%20%20%20%20%20%20%20%20%20%20%7B%22sticky%22%3A%20true%7D%0A%20%20%20%20%20%20%20%20%20%20%20%20%29%3B%0A%20%20%20%20%20%20%20%20%0A%20%20%20%20%0A%20%20%20%20%20%20%20%20%20%20%20%20var%20marker_522f65c78ff74c5c9a72d635f42922bd%20%3D%20L.marker%28%0A%20%20%20%20%20%20%20%20%20%20%20%20%20%20%20%20%5B-37.7787%2C%20144.9426%5D%2C%0A%20%20%20%20%20%20%20%20%20%20%20%20%20%20%20%20%7B%7D%0A%20%20%20%20%20%20%20%20%20%20%20%20%29.addTo%28map_45f98d8d55ed4042a2447c524a64257c%29%3B%0A%20%20%20%20%20%20%20%20%0A%20%20%20%20%0A%20%20%20%20%20%20%20%20var%20popup_5c355a8906744bc9b3bd20c306403f30%20%3D%20L.popup%28%7B%22maxWidth%22%3A%20%22100%25%22%7D%29%3B%0A%0A%20%20%20%20%20%20%20%20%0A%20%20%20%20%20%20%20%20%20%20%20%20var%20html_7fa9361574764a07ab65cda95c0abb12%20%3D%20%24%28%60%3Cdiv%20id%3D%22html_7fa9361574764a07ab65cda95c0abb12%22%20style%3D%22width%3A%20100.0%25%3B%20height%3A%20100.0%25%3B%22%3EParkville%3C/div%3E%60%29%5B0%5D%3B%0A%20%20%20%20%20%20%20%20%20%20%20%20popup_5c355a8906744bc9b3bd20c306403f30.setContent%28html_7fa9361574764a07ab65cda95c0abb12%29%3B%0A%20%20%20%20%20%20%20%20%0A%0A%20%20%20%20%20%20%20%20marker_522f65c78ff74c5c9a72d635f42922bd.bindPopup%28popup_5c355a8906744bc9b3bd20c306403f30%29%0A%20%20%20%20%20%20%20%20%3B%0A%0A%20%20%20%20%20%20%20%20%0A%20%20%20%20%0A%20%20%20%20%0A%20%20%20%20%20%20%20%20%20%20%20%20marker_522f65c78ff74c5c9a72d635f42922bd.bindTooltip%28%0A%20%20%20%20%20%20%20%20%20%20%20%20%20%20%20%20%60%3Cdiv%3E%0A%20%20%20%20%20%20%20%20%20%20%20%20%20%20%20%20%20%20%20%20%20mari%20ke%20Parkville%0A%20%20%20%20%20%20%20%20%20%20%20%20%20%20%20%20%20%3C/div%3E%60%2C%0A%20%20%20%20%20%20%20%20%20%20%20%20%20%20%20%20%7B%22sticky%22%3A%20true%7D%0A%20%20%20%20%20%20%20%20%20%20%20%20%29%3B%0A%20%20%20%20%20%20%20%20%0A%20%20%20%20%0A%20%20%20%20%20%20%20%20%20%20%20%20var%20marker_86e3e6a16f214730be83d3ebaa1175d7%20%3D%20L.marker%28%0A%20%20%20%20%20%20%20%20%20%20%20%20%20%20%20%20%5B-37.8332%2C%20144.9125%5D%2C%0A%20%20%20%20%20%20%20%20%20%20%20%20%20%20%20%20%7B%7D%0A%20%20%20%20%20%20%20%20%20%20%20%20%29.addTo%28map_45f98d8d55ed4042a2447c524a64257c%29%3B%0A%20%20%20%20%20%20%20%20%0A%20%20%20%20%0A%20%20%20%20%20%20%20%20var%20popup_fe9560382ae14b26a7f329a520181684%20%3D%20L.popup%28%7B%22maxWidth%22%3A%20%22100%25%22%7D%29%3B%0A%0A%20%20%20%20%20%20%20%20%0A%20%20%20%20%20%20%20%20%20%20%20%20var%20html_0a8a3e04461842b58b01bdbcdc8b8ac9%20%3D%20%24%28%60%3Cdiv%20id%3D%22html_0a8a3e04461842b58b01bdbcdc8b8ac9%22%20style%3D%22width%3A%20100.0%25%3B%20height%3A%20100.0%25%3B%22%3EPort%20Melbourne%3C/div%3E%60%29%5B0%5D%3B%0A%20%20%20%20%20%20%20%20%20%20%20%20popup_fe9560382ae14b26a7f329a520181684.setContent%28html_0a8a3e04461842b58b01bdbcdc8b8ac9%29%3B%0A%20%20%20%20%20%20%20%20%0A%0A%20%20%20%20%20%20%20%20marker_86e3e6a16f214730be83d3ebaa1175d7.bindPopup%28popup_fe9560382ae14b26a7f329a520181684%29%0A%20%20%20%20%20%20%20%20%3B%0A%0A%20%20%20%20%20%20%20%20%0A%20%20%20%20%0A%20%20%20%20%0A%20%20%20%20%20%20%20%20%20%20%20%20marker_86e3e6a16f214730be83d3ebaa1175d7.bindTooltip%28%0A%20%20%20%20%20%20%20%20%20%20%20%20%20%20%20%20%60%3Cdiv%3E%0A%20%20%20%20%20%20%20%20%20%20%20%20%20%20%20%20%20%20%20%20%20Sini%20ke%20Port%20Melbourne%0A%20%20%20%20%20%20%20%20%20%20%20%20%20%20%20%20%20%3C/div%3E%60%2C%0A%20%20%20%20%20%20%20%20%20%20%20%20%20%20%20%20%7B%22sticky%22%3A%20true%7D%0A%20%20%20%20%20%20%20%20%20%20%20%20%29%3B%0A%20%20%20%20%20%20%20%20%0A%20%20%20%20%0A%20%20%20%20%20%20%20%20%20%20%20%20var%20marker_bfe94556cb024bea9d4403cdbdf3f0a3%20%3D%20L.marker%28%0A%20%20%20%20%20%20%20%20%20%20%20%20%20%20%20%20%5B-37.784%2C%20144.966%5D%2C%0A%20%20%20%20%20%20%20%20%20%20%20%20%20%20%20%20%7B%7D%0A%20%20%20%20%20%20%20%20%20%20%20%20%29.addTo%28map_45f98d8d55ed4042a2447c524a64257c%29%3B%0A%20%20%20%20%20%20%20%20%0A%20%20%20%20%0A%20%20%20%20%20%20%20%20var%20popup_592518e949c54c1bb082c73bd52f0389%20%3D%20L.popup%28%7B%22maxWidth%22%3A%20%22100%25%22%7D%29%3B%0A%0A%20%20%20%20%20%20%20%20%0A%20%20%20%20%20%20%20%20%20%20%20%20var%20html_44e84a2d7c39462a889f6c6b479f6098%20%3D%20%24%28%60%3Cdiv%20id%3D%22html_44e84a2d7c39462a889f6c6b479f6098%22%20style%3D%22width%3A%20100.0%25%3B%20height%3A%20100.0%25%3B%22%3EPrinces%20Hill%3C/div%3E%60%29%5B0%5D%3B%0A%20%20%20%20%20%20%20%20%20%20%20%20popup_592518e949c54c1bb082c73bd52f0389.setContent%28html_44e84a2d7c39462a889f6c6b479f6098%29%3B%0A%20%20%20%20%20%20%20%20%0A%0A%20%20%20%20%20%20%20%20marker_bfe94556cb024bea9d4403cdbdf3f0a3.bindPopup%28popup_592518e949c54c1bb082c73bd52f0389%29%0A%20%20%20%20%20%20%20%20%3B%0A%0A%20%20%20%20%20%20%20%20%0A%20%20%20%20%0A%20%20%20%20%0A%20%20%20%20%20%20%20%20%20%20%20%20marker_bfe94556cb024bea9d4403cdbdf3f0a3.bindTooltip%28%0A%20%20%20%20%20%20%20%20%20%20%20%20%20%20%20%20%60%3Cdiv%3E%0A%20%20%20%20%20%20%20%20%20%20%20%20%20%20%20%20%20%20%20%20%20Sini%20ke%20Princes%20Hill%0A%20%20%20%20%20%20%20%20%20%20%20%20%20%20%20%20%20%3C/div%3E%60%2C%0A%20%20%20%20%20%20%20%20%20%20%20%20%20%20%20%20%7B%22sticky%22%3A%20true%7D%0A%20%20%20%20%20%20%20%20%20%20%20%20%29%3B%0A%20%20%20%20%20%20%20%20%0A%20%20%20%20%0A%20%20%20%20%20%20%20%20%20%20%20%20var%20marker_be315b2e6fc44ba392867454aa3670f9%20%3D%20L.marker%28%0A%20%20%20%20%20%20%20%20%20%20%20%20%20%20%20%20%5B-37.84%2C%20144.989%5D%2C%0A%20%20%20%20%20%20%20%20%20%20%20%20%20%20%20%20%7B%7D%0A%20%20%20%20%20%20%20%20%20%20%20%20%29.addTo%28map_45f98d8d55ed4042a2447c524a64257c%29%3B%0A%20%20%20%20%20%20%20%20%0A%20%20%20%20%0A%20%20%20%20%20%20%20%20var%20popup_78bd543903774a928f4154e5da6f850a%20%3D%20L.popup%28%7B%22maxWidth%22%3A%20%22100%25%22%7D%29%3B%0A%0A%20%20%20%20%20%20%20%20%0A%20%20%20%20%20%20%20%20%20%20%20%20var%20html_d897fcba988d44f6981ca00bf355a472%20%3D%20%24%28%60%3Cdiv%20id%3D%22html_d897fcba988d44f6981ca00bf355a472%22%20style%3D%22width%3A%20100.0%25%3B%20height%3A%20100.0%25%3B%22%3ESouth%20Yarra%3C/div%3E%60%29%5B0%5D%3B%0A%20%20%20%20%20%20%20%20%20%20%20%20popup_78bd543903774a928f4154e5da6f850a.setContent%28html_d897fcba988d44f6981ca00bf355a472%29%3B%0A%20%20%20%20%20%20%20%20%0A%0A%20%20%20%20%20%20%20%20marker_be315b2e6fc44ba392867454aa3670f9.bindPopup%28popup_78bd543903774a928f4154e5da6f850a%29%0A%20%20%20%20%20%20%20%20%3B%0A%0A%20%20%20%20%20%20%20%20%0A%20%20%20%20%0A%20%20%20%20%0A%20%20%20%20%20%20%20%20%20%20%20%20marker_be315b2e6fc44ba392867454aa3670f9.bindTooltip%28%0A%20%20%20%20%20%20%20%20%20%20%20%20%20%20%20%20%60%3Cdiv%3E%0A%20%20%20%20%20%20%20%20%20%20%20%20%20%20%20%20%20%20%20%20%20Sini%20ke%20South%20Yarra%0A%20%20%20%20%20%20%20%20%20%20%20%20%20%20%20%20%20%3C/div%3E%60%2C%0A%20%20%20%20%20%20%20%20%20%20%20%20%20%20%20%20%7B%22sticky%22%3A%20true%7D%0A%20%20%20%20%20%20%20%20%20%20%20%20%29%3B%0A%20%20%20%20%20%20%20%20%0A%20%20%20%20%0A%20%20%20%20%20%20%20%20%20%20%20%20var%20marker_476ebe37770146729941145c5c6be080%20%3D%20L.marker%28%0A%20%20%20%20%20%20%20%20%20%20%20%20%20%20%20%20%5B-37.829%2C%20144.957%5D%2C%0A%20%20%20%20%20%20%20%20%20%20%20%20%20%20%20%20%7B%7D%0A%20%20%20%20%20%20%20%20%20%20%20%20%29.addTo%28map_45f98d8d55ed4042a2447c524a64257c%29%3B%0A%20%20%20%20%20%20%20%20%0A%20%20%20%20%0A%20%20%20%20%20%20%20%20var%20popup_185070b3d4d94d5189a57ee7b3bb18f6%20%3D%20L.popup%28%7B%22maxWidth%22%3A%20%22100%25%22%7D%29%3B%0A%0A%20%20%20%20%20%20%20%20%0A%20%20%20%20%20%20%20%20%20%20%20%20var%20html_f5bc8fbe01c64b62a1bdc9d5f298314f%20%3D%20%24%28%60%3Cdiv%20id%3D%22html_f5bc8fbe01c64b62a1bdc9d5f298314f%22%20style%3D%22width%3A%20100.0%25%3B%20height%3A%20100.0%25%3B%22%3ESouthbank%3C/div%3E%60%29%5B0%5D%3B%0A%20%20%20%20%20%20%20%20%20%20%20%20popup_185070b3d4d94d5189a57ee7b3bb18f6.setContent%28html_f5bc8fbe01c64b62a1bdc9d5f298314f%29%3B%0A%20%20%20%20%20%20%20%20%0A%0A%20%20%20%20%20%20%20%20marker_476ebe37770146729941145c5c6be080.bindPopup%28popup_185070b3d4d94d5189a57ee7b3bb18f6%29%0A%20%20%20%20%20%20%20%20%3B%0A%0A%20%20%20%20%20%20%20%20%0A%20%20%20%20%0A%20%20%20%20%0A%20%20%20%20%20%20%20%20%20%20%20%20marker_476ebe37770146729941145c5c6be080.bindTooltip%28%0A%20%20%20%20%20%20%20%20%20%20%20%20%20%20%20%20%60%3Cdiv%3E%0A%20%20%20%20%20%20%20%20%20%20%20%20%20%20%20%20%20%20%20%20%20mari%20ke%20Southbank%0A%20%20%20%20%20%20%20%20%20%20%20%20%20%20%20%20%20%3C/div%3E%60%2C%0A%20%20%20%20%20%20%20%20%20%20%20%20%20%20%20%20%7B%22sticky%22%3A%20true%7D%0A%20%20%20%20%20%20%20%20%20%20%20%20%29%3B%0A%20%20%20%20%20%20%20%20%0A%20%20%20%20%0A%20%20%20%20%20%20%20%20%20%20%20%20var%20marker_6f60ccc81ad24226bcf56080e50d0e4a%20%3D%20L.marker%28%0A%20%20%20%20%20%20%20%20%20%20%20%20%20%20%20%20%5B-37.778%2C%20144.935%5D%2C%0A%20%20%20%20%20%20%20%20%20%20%20%20%20%20%20%20%7B%7D%0A%20%20%20%20%20%20%20%20%20%20%20%20%29.addTo%28map_45f98d8d55ed4042a2447c524a64257c%29%3B%0A%20%20%20%20%20%20%20%20%0A%20%20%20%20%0A%20%20%20%20%20%20%20%20var%20popup_03b82c9b91a640c681a23f96444cd159%20%3D%20L.popup%28%7B%22maxWidth%22%3A%20%22100%25%22%7D%29%3B%0A%0A%20%20%20%20%20%20%20%20%0A%20%20%20%20%20%20%20%20%20%20%20%20var%20html_554447dfa0134539a9b312ec7eb0e6f7%20%3D%20%24%28%60%3Cdiv%20id%3D%22html_554447dfa0134539a9b312ec7eb0e6f7%22%20style%3D%22width%3A%20100.0%25%3B%20height%3A%20100.0%25%3B%22%3ETravancore%3C/div%3E%60%29%5B0%5D%3B%0A%20%20%20%20%20%20%20%20%20%20%20%20popup_03b82c9b91a640c681a23f96444cd159.setContent%28html_554447dfa0134539a9b312ec7eb0e6f7%29%3B%0A%20%20%20%20%20%20%20%20%0A%0A%20%20%20%20%20%20%20%20marker_6f60ccc81ad24226bcf56080e50d0e4a.bindPopup%28popup_03b82c9b91a640c681a23f96444cd159%29%0A%20%20%20%20%20%20%20%20%3B%0A%0A%20%20%20%20%20%20%20%20%0A%20%20%20%20%0A%20%20%20%20%0A%20%20%20%20%20%20%20%20%20%20%20%20marker_6f60ccc81ad24226bcf56080e50d0e4a.bindTooltip%28%0A%20%20%20%20%20%20%20%20%20%20%20%20%20%20%20%20%60%3Cdiv%3E%0A%20%20%20%20%20%20%20%20%20%20%20%20%20%20%20%20%20%20%20%20%20mari%20ke%20Travancore%0A%20%20%20%20%20%20%20%20%20%20%20%20%20%20%20%20%20%3C/div%3E%60%2C%0A%20%20%20%20%20%20%20%20%20%20%20%20%20%20%20%20%7B%22sticky%22%3A%20true%7D%0A%20%20%20%20%20%20%20%20%20%20%20%20%29%3B%0A%20%20%20%20%20%20%20%20%0A%20%20%20%20%0A%20%20%20%20%20%20%20%20%20%20%20%20var%20marker_fc583c9dc4bf44a79c3729ca9f6052e8%20%3D%20L.marker%28%0A%20%20%20%20%20%20%20%20%20%20%20%20%20%20%20%20%5B-28.0717%2C%2080.6534%5D%2C%0A%20%20%20%20%20%20%20%20%20%20%20%20%20%20%20%20%7B%7D%0A%20%20%20%20%20%20%20%20%20%20%20%20%29.addTo%28map_45f98d8d55ed4042a2447c524a64257c%29%3B%0A%20%20%20%20%20%20%20%20%0A%20%20%20%20%0A%20%20%20%20%20%20%20%20var%20popup_b5d05b5ee33344028551d8074cd62baf%20%3D%20L.popup%28%7B%22maxWidth%22%3A%20%22100%25%22%7D%29%3B%0A%0A%20%20%20%20%20%20%20%20%0A%20%20%20%20%20%20%20%20%20%20%20%20var%20html_5f84fd5d56dd4876ae980b4706418dfe%20%3D%20%24%28%60%3Cdiv%20id%3D%22html_5f84fd5d56dd4876ae980b4706418dfe%22%20style%3D%22width%3A%20100.0%25%3B%20height%3A%20100.0%25%3B%22%3EWest%20Melbourne%3C/div%3E%60%29%5B0%5D%3B%0A%20%20%20%20%20%20%20%20%20%20%20%20popup_b5d05b5ee33344028551d8074cd62baf.setContent%28html_5f84fd5d56dd4876ae980b4706418dfe%29%3B%0A%20%20%20%20%20%20%20%20%0A%0A%20%20%20%20%20%20%20%20marker_fc583c9dc4bf44a79c3729ca9f6052e8.bindPopup%28popup_b5d05b5ee33344028551d8074cd62baf%29%0A%20%20%20%20%20%20%20%20%3B%0A%0A%20%20%20%20%20%20%20%20%0A%20%20%20%20%0A%20%20%20%20%0A%20%20%20%20%20%20%20%20%20%20%20%20marker_fc583c9dc4bf44a79c3729ca9f6052e8.bindTooltip%28%0A%20%20%20%20%20%20%20%20%20%20%20%20%20%20%20%20%60%3Cdiv%3E%0A%20%20%20%20%20%20%20%20%20%20%20%20%20%20%20%20%20%20%20%20%20ayo%20ke%20West%20Melbourne%0A%20%20%20%20%20%20%20%20%20%20%20%20%20%20%20%20%20%3C/div%3E%60%2C%0A%20%20%20%20%20%20%20%20%20%20%20%20%20%20%20%20%7B%22sticky%22%3A%20true%7D%0A%20%20%20%20%20%20%20%20%20%20%20%20%29%3B%0A%20%20%20%20%20%20%20%20%0A%3C/script%3E onload=\"this.contentDocument.open();this.contentDocument.write(    decodeURIComponent(this.getAttribute('data-html')));this.contentDocument.close();\" allowfullscreen webkitallowfullscreen mozallowfullscreen></iframe></div></div>"
      ],
      "text/plain": [
       "<folium.folium.Map at 0x296c7c21720>"
      ]
     },
     "execution_count": 51,
     "metadata": {},
     "output_type": "execute_result"
    }
   ],
   "source": [
    "Melbourne_map=folium.Map(location=[-37.8136, 144.9631], zoom_start=10)\n",
    "\n",
    "\n",
    "folium.Marker([-37.8124, 144.9623],\n",
    "               popup='<i>CBD<i>',\n",
    "               tooltip='here is CBD', # kalau di over over keluar tulisan ini\n",
    "               icon= folium.Icon(color='purple', icon='info-sign')\n",
    "               ).add_to(Melbourne_map)\n",
    "\n",
    "folium.Marker([-37.7767, 144.9671],\n",
    "               popup='Ascot Vale',\n",
    "               tooltip='here is Ascot Vale', # kalau di over over keluar tulisan ini\n",
    "               ).add_to(Melbourne_map)\n",
    "\n",
    "\n",
    "folium.Marker([-37.8001, 144.9671],\n",
    "               popup='Carlton',\n",
    "               tooltip='mari ke Carlton', # kalau di over over keluar tulisan ini\n",
    "               ).add_to(Melbourne_map)\n",
    "\n",
    "\n",
    "folium.Marker([-37.7888, 144.9720],\n",
    "               popup='Carlton North',\n",
    "               tooltip='mari ke Carlton North', # kalau di over over keluar tulisan ini\n",
    "               ).add_to(Melbourne_map)\n",
    "\n",
    "folium.Marker([-37.8190, 144.9466],\n",
    "               popup='Docklands',\n",
    "               tooltip='mari ke Docklands', # kalau di over over keluar tulisan ini\n",
    "               ).add_to(Melbourne_map)\n",
    "\n",
    "folium.Marker([-37.8130, 144.9850],\n",
    "               popup='East Melbourne',\n",
    "               tooltip='mari ke East Melbourne', # kalau di over over keluar tulisan ini\n",
    "               ).add_to(Melbourne_map)\n",
    "\n",
    "folium.Marker([-37.7833, 144.9277],\n",
    "               popup='Flemington',\n",
    "               tooltip='mari ke Flemington', # kalau di over over keluar tulisan ini\n",
    "               ).add_to(Melbourne_map)\n",
    "\n",
    "folium.Marker([-37.7696, 144.8821],\n",
    "               popup='Maribyrnong',\n",
    "               tooltip='mari ke Maribyrnong', \n",
    "               ).add_to(Melbourne_map)\n",
    "\n",
    "folium.Marker([-37.7941, 144.9277],\n",
    "               popup='Kensington',\n",
    "               tooltip='mari ke Kensington', \n",
    "               ).add_to(Melbourne_map)\n",
    "\n",
    "folium.Marker([-37.8136, 144.9631],\n",
    "               popup='Melbourne',\n",
    "               tooltip='mari ke Melbourne', \n",
    "               ).add_to(Melbourne_map)\n",
    "\n",
    "folium.Marker([-37.7992, 144.9467],\n",
    "               popup='North Melbourne',\n",
    "               tooltip='mari ke North Melbourne', \n",
    "               ).add_to(Melbourne_map)\n",
    "\n",
    "folium.Marker([-37.7787, 144.9426],\n",
    "               popup='Parkville',\n",
    "               tooltip='mari ke Parkville', \n",
    "               ).add_to(Melbourne_map)\n",
    "\n",
    "folium.Marker([-37.8332, 144.9125],\n",
    "               popup='Port Melbourne',\n",
    "               tooltip='Sini ke Port Melbourne', \n",
    "               ).add_to(Melbourne_map)\n",
    "\n",
    "folium.Marker([-37.7840, 144.9660],\n",
    "               popup='Princes Hill',\n",
    "               tooltip='Sini ke Princes Hill', \n",
    "               ).add_to(Melbourne_map)\n",
    "\n",
    "folium.Marker([-37.8400, 144.9890],\n",
    "               popup='South Yarra',\n",
    "               tooltip='Sini ke South Yarra', \n",
    "               ).add_to(Melbourne_map)\n",
    "\n",
    "folium.Marker([-37.8290, 144.9570],\n",
    "               popup='Southbank',\n",
    "               tooltip='mari ke Southbank', \n",
    "               ).add_to(Melbourne_map)\n",
    "\n",
    "folium.Marker([-37.7780, 144.9350],\n",
    "               popup='Travancore',\n",
    "               tooltip='mari ke Travancore', \n",
    "               ).add_to(Melbourne_map)\n",
    "\n",
    "folium.Marker([-28.0717, 80.6534],\n",
    "               popup='West Melbourne',\n",
    "               tooltip='ayo ke West Melbourne', \n",
    "               ).add_to(Melbourne_map)\n",
    "\n",
    "\n",
    "Melbourne_map"
   ]
  },
  {
   "cell_type": "markdown",
   "metadata": {},
   "source": [
    "# kesimpulan"
   ]
  },
  {
   "cell_type": "markdown",
   "metadata": {},
   "source": [
    "dari data di atas sesuai dengan data lokasi bahwa jika kita menawarkan property kepada konsumen berdasarkan lokasi, sebenernya sesuai dengan kebutuhan dan kondisi dari konsumen tersebut nanti kita akan menyesuaikan dengan kebutuhan konsumen tersebut.\n",
    "\n",
    "* jika ingin di pusat perkotaan kami menawarkan harga relatif terjangka tetapi type dari property nya duplex.\n",
    "* jika ingin jauh dari pusat perkotaan kami menawarkan harga relatif tinggi dan type dari property nya House."
   ]
  },
  {
   "cell_type": "code",
   "execution_count": null,
   "metadata": {},
   "outputs": [],
   "source": []
  }
 ],
 "metadata": {
  "interpreter": {
   "hash": "f6cadb433fb4d5e490a52a7886e50fe75cf2fd39fd559aabdd1f0f7248e07363"
  },
  "kernelspec": {
   "display_name": "Python 3 (ipykernel)",
   "language": "python",
   "name": "python3"
  },
  "language_info": {
   "codemirror_mode": {
    "name": "ipython",
    "version": 3
   },
   "file_extension": ".py",
   "mimetype": "text/x-python",
   "name": "python",
   "nbconvert_exporter": "python",
   "pygments_lexer": "ipython3",
   "version": "3.9.7"
  },
  "toc": {
   "base_numbering": 1,
   "nav_menu": {},
   "number_sections": true,
   "sideBar": true,
   "skip_h1_title": false,
   "title_cell": "Table of Contents",
   "title_sidebar": "Contents",
   "toc_cell": false,
   "toc_position": {},
   "toc_section_display": true,
   "toc_window_display": false
  }
 },
 "nbformat": 4,
 "nbformat_minor": 2
}
